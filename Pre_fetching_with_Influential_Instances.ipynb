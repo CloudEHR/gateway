{
  "nbformat": 4,
  "nbformat_minor": 0,
  "metadata": {
    "colab": {
      "name": "Pre-fetching with Influential Instances.ipynb",
      "provenance": [],
      "collapsed_sections": []
    },
    "kernelspec": {
      "name": "python3",
      "display_name": "Python 3"
    },
    "language_info": {
      "name": "python"
    }
  },
  "cells": [
    {
      "cell_type": "markdown",
      "metadata": {
        "id": "YBhSDb0q6bNT"
      },
      "source": [
        "# Prerequisites"
      ]
    },
    {
      "cell_type": "markdown",
      "metadata": {
        "id": "4hNHFaBj4wpD"
      },
      "source": [
        "## Import libraries"
      ]
    },
    {
      "cell_type": "code",
      "metadata": {
        "id": "m9CTpg9Z4n1E"
      },
      "source": [
        "import numpy as np\n",
        "import pandas as pd \n",
        "import matplotlib.pyplot as plt "
      ],
      "execution_count": null,
      "outputs": []
    },
    {
      "cell_type": "markdown",
      "metadata": {
        "id": "PeBJuyQP4z_Q"
      },
      "source": [
        "## Import data"
      ]
    },
    {
      "cell_type": "code",
      "metadata": {
        "id": "Kr75D9EA41U8"
      },
      "source": [
        "from google.colab import drive\n",
        "drive.mount('/content/drive')\n",
        "\n",
        "with open('/content/drive/MyDrive/Colab Notebooks/PhD/data/random_sequences_small.txt', 'r') as rf:\n",
        "  print(rf.read())"
      ],
      "execution_count": null,
      "outputs": []
    },
    {
      "cell_type": "markdown",
      "metadata": {
        "id": "PLi4PgbH42ty"
      },
      "source": [
        "## Create pandas dataframe"
      ]
    },
    {
      "cell_type": "code",
      "metadata": {
        "id": "dRCY65OD42dZ",
        "colab": {
          "base_uri": "https://localhost:8080/"
        },
        "outputId": "62d2f4be-e9fd-4b95-baf5-932dc50cfe21"
      },
      "source": [
        "df = pd.read_csv('/content/drive/MyDrive/Colab Notebooks/PhD/data/random_sequences_tiny.txt', sep=\";\", names=['first_file', 'second_file', 'third_file', 'fourth_file', 'fifth_file'])\n",
        "df = df.reset_index()\n",
        "df = df.drop(columns=['fifth_file']) \n",
        "df = df.rename(columns = {'index': 'first_file', 'first_file':'second_file', 'second_file':'third_file', 'third_file':'fourth_file', 'fourth_file':'fifth_file'}, inplace = False)\n",
        "\n",
        "# Replace categorical with numerical values\n",
        "df = df.replace(['IPS'], 1, regex=True)\n",
        "df = df.replace(['Laboratory Results'], 2, regex=True)\n",
        "df = df.replace(['Prescription'], 3, regex=True)\n",
        "df = df.replace(['Image Report'], 4, regex=True) \n",
        "df = df.replace(['Allergies'], 5, regex=True)\n",
        "df = df.replace(['Diagnostic Report'], 6, regex=True)\n",
        "df = df.replace(['Pathology History'], 7, regex=True)\n",
        "df = df.replace(['Vital Signs'], 8, regex=True)\n",
        "df = df.replace(['Medication Report'], 9, regex=True)\n",
        "\n",
        "df.head"
      ],
      "execution_count": null,
      "outputs": [
        {
          "output_type": "execute_result",
          "data": {
            "text/plain": [
              "<bound method NDFrame.head of     first_file  second_file  third_file  fourth_file  fifth_file\n",
              "0            3            3           1            2           5\n",
              "1            5            5           1            2           2\n",
              "2            3            1           3            1           1\n",
              "3            3            5           2            1           1\n",
              "4            3            7           5            1           2\n",
              "5            3            2           3            3           4\n",
              "6            2            3           3            5           1\n",
              "7            2            3           2            1           1\n",
              "8            2            2           5            6           2\n",
              "9            5            3           1            2           7\n",
              "10           1            1           1            1           2\n",
              "11           5            5           1            2           3\n",
              "12           1            1           1            3           4\n",
              "13           3            2           1            9           2\n",
              "14           6            3           7            3           2\n",
              "15           6            2           2            2           2\n",
              "16           4            1           1            1           2\n",
              "17           4            2           3            5           6\n",
              "18           1            2           1            3           1\n",
              "19           1            1           5            4           3\n",
              "20           4            1           3            1           5\n",
              "21           1            1           3            2           2\n",
              "22           2            2           5            2           2\n",
              "23           4            3           2            1           3\n",
              "24           5            2           2            2           1\n",
              "25           4            2           2            3           2\n",
              "26           3            2           3            1           1\n",
              "27           3            4           3            4           5\n",
              "28           3            1           1            5           3\n",
              "29           3            3           9            3           2\n",
              "30           2            3           1            2           2\n",
              "31           2            1           3            3           2\n",
              "32           5            1           2            2           1\n",
              "33           2            1           2            4           2\n",
              "34           1            1           2            4           5\n",
              "35           2            2           1            4           1\n",
              "36           1            5           7            5           1\n",
              "37           1            5           1            1           7\n",
              "38           3            3           4            1           3\n",
              "39           2            5           1            2           2\n",
              "40           2            2           1            7           1\n",
              "41           2            1           1            1           3\n",
              "42           1            1           2            4           2\n",
              "43           3            1           3            2           5\n",
              "44           5            3           4            3           2\n",
              "45           2            1           2            4           1\n",
              "46           4            4           2            5           3\n",
              "47           4            2           5            3           4\n",
              "48           2            2           1            3           1\n",
              "49           3            1           3            3           3>"
            ]
          },
          "metadata": {},
          "execution_count": 3
        }
      ]
    },
    {
      "cell_type": "markdown",
      "metadata": {
        "id": "kJzOg7a35iRV"
      },
      "source": [
        "Histogram"
      ]
    },
    {
      "cell_type": "code",
      "metadata": {
        "colab": {
          "base_uri": "https://localhost:8080/",
          "height": 269
        },
        "id": "N247YYpN5iB1",
        "outputId": "8aefec77-4bb3-479b-f87f-7d5ff97ef26e"
      },
      "source": [
        "plt.hist2d(df.iloc[0], df.iloc[1], 20)\n",
        "plt.show()"
      ],
      "execution_count": null,
      "outputs": [
        {
          "output_type": "display_data",
          "data": {
            "image/png": "[encoded data removed]",
            "text/plain": [
              "<Figure size 432x288 with 1 Axes>"
            ]
          },
          "metadata": {
            "needs_background": "light"
          }
        }
      ]
    },
    {
      "cell_type": "markdown",
      "metadata": {
        "id": "NE5bH8zO5WfH"
      },
      "source": [
        "# LSTM model"
      ]
    },
    {
      "cell_type": "markdown",
      "metadata": {
        "id": "HzzKHtmj6hZf"
      },
      "source": [
        "## Series to supervised"
      ]
    },
    {
      "cell_type": "code",
      "metadata": {
        "colab": {
          "base_uri": "https://localhost:8080/"
        },
        "id": "H_adXtCM6L3T",
        "outputId": "c7c50a22-b096-457a-e93e-7ededbd763ca"
      },
      "source": [
        "def series_to_supervised(data, n_in=1, n_out=1, dropnan=True):\n",
        "  if isinstance(data, list):\n",
        "    n_vars = 1\n",
        "  else:\n",
        "    n_vars = data.shape[1]\n",
        "  if isinstance(data, pd.DataFrame):\n",
        "    pass\n",
        "  else:\n",
        "    data = pd.DataFrame(data)\n",
        "  cols, names = list(), list()\n",
        "  print(n_vars)\n",
        "  # input sequence (t-n, ... t-1)\n",
        "  for i in range(n_in, 0, -1):\n",
        "    print(i)\n",
        "    cols.append(data.shift(i))\n",
        "    names += [('var%d(t-%d)' % (j+1, i)) for j in range(n_vars)]\n",
        "\n",
        "  # forecast sequence (t, t+1, ... t+n)\n",
        "  for i in range(0, n_out):\n",
        "    cols.append(data.shift(-i))\n",
        "    if i == 0:\n",
        "      names += [('var%d(t)' % (j+1)) for j in range(n_vars)]\n",
        "    else:\n",
        "      names += [('var%d(t+%d)' % (j+1, i)) for j in range(n_vars)]\n",
        "\n",
        "  # put it all together\n",
        "  agg = pd.concat(cols, axis=1)\n",
        "  agg.columns = names\n",
        "  #cols_to_use = names[:len(names) - (n_out)]\n",
        "  #agg = agg[cols_to_use]\n",
        "  # drop rows with NaN values\n",
        "  if dropnan:\n",
        "    agg.dropna(inplace=True)\n",
        "  return agg\n",
        "\n",
        "\n",
        "new_df = series_to_supervised(df,n_in= 1, n_out=1)"
      ],
      "execution_count": null,
      "outputs": [
        {
          "output_type": "stream",
          "name": "stdout",
          "text": [
            "5\n",
            "1\n"
          ]
        }
      ]
    },
    {
      "cell_type": "code",
      "metadata": {
        "colab": {
          "base_uri": "https://localhost:8080/",
          "height": 204
        },
        "id": "dau36zYD6PxH",
        "outputId": "0f8aa625-d6c3-4264-d66b-3ed20a6a45ac"
      },
      "source": [
        "new_df.head()"
      ],
      "execution_count": null,
      "outputs": [
        {
          "output_type": "execute_result",
          "data": {
            "text/html": [
              "<div>\n",
              "<style scoped>\n",
              "    .dataframe tbody tr th:only-of-type {\n",
              "        vertical-align: middle;\n",
              "    }\n",
              "\n",
              "    .dataframe tbody tr th {\n",
              "        vertical-align: top;\n",
              "    }\n",
              "\n",
              "    .dataframe thead th {\n",
              "        text-align: right;\n",
              "    }\n",
              "</style>\n",
              "<table border=\"1\" class=\"dataframe\">\n",
              "  <thead>\n",
              "    <tr style=\"text-align: right;\">\n",
              "      <th></th>\n",
              "      <th>var1(t-1)</th>\n",
              "      <th>var2(t-1)</th>\n",
              "      <th>var3(t-1)</th>\n",
              "      <th>var4(t-1)</th>\n",
              "      <th>var5(t-1)</th>\n",
              "      <th>var1(t)</th>\n",
              "      <th>var2(t)</th>\n",
              "      <th>var3(t)</th>\n",
              "      <th>var4(t)</th>\n",
              "      <th>var5(t)</th>\n",
              "    </tr>\n",
              "  </thead>\n",
              "  <tbody>\n",
              "    <tr>\n",
              "      <th>1</th>\n",
              "      <td>3.0</td>\n",
              "      <td>3.0</td>\n",
              "      <td>1.0</td>\n",
              "      <td>2.0</td>\n",
              "      <td>5.0</td>\n",
              "      <td>5</td>\n",
              "      <td>5</td>\n",
              "      <td>1</td>\n",
              "      <td>2</td>\n",
              "      <td>2</td>\n",
              "    </tr>\n",
              "    <tr>\n",
              "      <th>2</th>\n",
              "      <td>5.0</td>\n",
              "      <td>5.0</td>\n",
              "      <td>1.0</td>\n",
              "      <td>2.0</td>\n",
              "      <td>2.0</td>\n",
              "      <td>3</td>\n",
              "      <td>1</td>\n",
              "      <td>3</td>\n",
              "      <td>1</td>\n",
              "      <td>1</td>\n",
              "    </tr>\n",
              "    <tr>\n",
              "      <th>3</th>\n",
              "      <td>3.0</td>\n",
              "      <td>1.0</td>\n",
              "      <td>3.0</td>\n",
              "      <td>1.0</td>\n",
              "      <td>1.0</td>\n",
              "      <td>3</td>\n",
              "      <td>5</td>\n",
              "      <td>2</td>\n",
              "      <td>1</td>\n",
              "      <td>1</td>\n",
              "    </tr>\n",
              "    <tr>\n",
              "      <th>4</th>\n",
              "      <td>3.0</td>\n",
              "      <td>5.0</td>\n",
              "      <td>2.0</td>\n",
              "      <td>1.0</td>\n",
              "      <td>1.0</td>\n",
              "      <td>3</td>\n",
              "      <td>7</td>\n",
              "      <td>5</td>\n",
              "      <td>1</td>\n",
              "      <td>2</td>\n",
              "    </tr>\n",
              "    <tr>\n",
              "      <th>5</th>\n",
              "      <td>3.0</td>\n",
              "      <td>7.0</td>\n",
              "      <td>5.0</td>\n",
              "      <td>1.0</td>\n",
              "      <td>2.0</td>\n",
              "      <td>3</td>\n",
              "      <td>2</td>\n",
              "      <td>3</td>\n",
              "      <td>3</td>\n",
              "      <td>4</td>\n",
              "    </tr>\n",
              "  </tbody>\n",
              "</table>\n",
              "</div>"
            ],
            "text/plain": [
              "   var1(t-1)  var2(t-1)  var3(t-1)  ...  var3(t)  var4(t)  var5(t)\n",
              "1        3.0        3.0        1.0  ...        1        2        2\n",
              "2        5.0        5.0        1.0  ...        3        1        1\n",
              "3        3.0        1.0        3.0  ...        2        1        1\n",
              "4        3.0        5.0        2.0  ...        5        1        2\n",
              "5        3.0        7.0        5.0  ...        3        3        4\n",
              "\n",
              "[5 rows x 10 columns]"
            ]
          },
          "metadata": {},
          "execution_count": 6
        }
      ]
    },
    {
      "cell_type": "markdown",
      "metadata": {
        "id": "jmhe5jr_6LKA"
      },
      "source": [
        "## Min - Max scaler"
      ]
    },
    {
      "cell_type": "code",
      "metadata": {
        "id": "oBAjpnJx6rPX"
      },
      "source": [
        "def Min_max_scal(data):\n",
        "\tarray = data.values\n",
        "\tvalues_ = array.astype('float32')\n",
        "\tscaler = MinMaxScaler(feature_range=(-1, 1))\n",
        "\tscaled = scaler.fit_transform(values_)\n",
        "\treturn scaled"
      ],
      "execution_count": null,
      "outputs": []
    },
    {
      "cell_type": "code",
      "metadata": {
        "colab": {
          "base_uri": "https://localhost:8080/",
          "height": 1000
        },
        "id": "fyxzugPf6tRi",
        "outputId": "7890d4c9-d190-47ba-a865-44186d40d4a0"
      },
      "source": [
        "from sklearn.preprocessing import MinMaxScaler\n",
        "\n",
        "columns = new_df.columns\n",
        "scaled_np = Min_max_scal(new_df)\n",
        "scaled_df = pd.DataFrame(scaled_np, columns=[columns])\n",
        "\n",
        "scaled_df"
      ],
      "execution_count": null,
      "outputs": [
        {
          "output_type": "execute_result",
          "data": {
            "text/html": [
              "<div>\n",
              "<style scoped>\n",
              "    .dataframe tbody tr th:only-of-type {\n",
              "        vertical-align: middle;\n",
              "    }\n",
              "\n",
              "    .dataframe tbody tr th {\n",
              "        vertical-align: top;\n",
              "    }\n",
              "\n",
              "    .dataframe thead tr th {\n",
              "        text-align: left;\n",
              "    }\n",
              "</style>\n",
              "<table border=\"1\" class=\"dataframe\">\n",
              "  <thead>\n",
              "    <tr>\n",
              "      <th></th>\n",
              "      <th>var1(t-1)</th>\n",
              "      <th>var2(t-1)</th>\n",
              "      <th>var3(t-1)</th>\n",
              "      <th>var4(t-1)</th>\n",
              "      <th>var5(t-1)</th>\n",
              "      <th>var1(t)</th>\n",
              "      <th>var2(t)</th>\n",
              "      <th>var3(t)</th>\n",
              "      <th>var4(t)</th>\n",
              "      <th>var5(t)</th>\n",
              "    </tr>\n",
              "  </thead>\n",
              "  <tbody>\n",
              "    <tr>\n",
              "      <th>0</th>\n",
              "      <td>-0.2</td>\n",
              "      <td>-0.333333</td>\n",
              "      <td>-1.00</td>\n",
              "      <td>-0.75</td>\n",
              "      <td>0.333333</td>\n",
              "      <td>0.6</td>\n",
              "      <td>0.333333</td>\n",
              "      <td>-1.00</td>\n",
              "      <td>-0.75</td>\n",
              "      <td>-0.666667</td>\n",
              "    </tr>\n",
              "    <tr>\n",
              "      <th>1</th>\n",
              "      <td>0.6</td>\n",
              "      <td>0.333333</td>\n",
              "      <td>-1.00</td>\n",
              "      <td>-0.75</td>\n",
              "      <td>-0.666667</td>\n",
              "      <td>-0.2</td>\n",
              "      <td>-1.000000</td>\n",
              "      <td>-0.50</td>\n",
              "      <td>-1.00</td>\n",
              "      <td>-1.000000</td>\n",
              "    </tr>\n",
              "    <tr>\n",
              "      <th>2</th>\n",
              "      <td>-0.2</td>\n",
              "      <td>-1.000000</td>\n",
              "      <td>-0.50</td>\n",
              "      <td>-1.00</td>\n",
              "      <td>-1.000000</td>\n",
              "      <td>-0.2</td>\n",
              "      <td>0.333333</td>\n",
              "      <td>-0.75</td>\n",
              "      <td>-1.00</td>\n",
              "      <td>-1.000000</td>\n",
              "    </tr>\n",
              "    <tr>\n",
              "      <th>3</th>\n",
              "      <td>-0.2</td>\n",
              "      <td>0.333333</td>\n",
              "      <td>-0.75</td>\n",
              "      <td>-1.00</td>\n",
              "      <td>-1.000000</td>\n",
              "      <td>-0.2</td>\n",
              "      <td>1.000000</td>\n",
              "      <td>0.00</td>\n",
              "      <td>-1.00</td>\n",
              "      <td>-0.666667</td>\n",
              "    </tr>\n",
              "    <tr>\n",
              "      <th>4</th>\n",
              "      <td>-0.2</td>\n",
              "      <td>1.000000</td>\n",
              "      <td>0.00</td>\n",
              "      <td>-1.00</td>\n",
              "      <td>-0.666667</td>\n",
              "      <td>-0.2</td>\n",
              "      <td>-0.666667</td>\n",
              "      <td>-0.50</td>\n",
              "      <td>-0.50</td>\n",
              "      <td>0.000000</td>\n",
              "    </tr>\n",
              "    <tr>\n",
              "      <th>5</th>\n",
              "      <td>-0.2</td>\n",
              "      <td>-0.666667</td>\n",
              "      <td>-0.50</td>\n",
              "      <td>-0.50</td>\n",
              "      <td>0.000000</td>\n",
              "      <td>-0.6</td>\n",
              "      <td>-0.333333</td>\n",
              "      <td>-0.50</td>\n",
              "      <td>0.00</td>\n",
              "      <td>-1.000000</td>\n",
              "    </tr>\n",
              "    <tr>\n",
              "      <th>6</th>\n",
              "      <td>-0.6</td>\n",
              "      <td>-0.333333</td>\n",
              "      <td>-0.50</td>\n",
              "      <td>0.00</td>\n",
              "      <td>-1.000000</td>\n",
              "      <td>-0.6</td>\n",
              "      <td>-0.333333</td>\n",
              "      <td>-0.75</td>\n",
              "      <td>-1.00</td>\n",
              "      <td>-1.000000</td>\n",
              "    </tr>\n",
              "    <tr>\n",
              "      <th>7</th>\n",
              "      <td>-0.6</td>\n",
              "      <td>-0.333333</td>\n",
              "      <td>-0.75</td>\n",
              "      <td>-1.00</td>\n",
              "      <td>-1.000000</td>\n",
              "      <td>-0.6</td>\n",
              "      <td>-0.666667</td>\n",
              "      <td>0.00</td>\n",
              "      <td>0.25</td>\n",
              "      <td>-0.666667</td>\n",
              "    </tr>\n",
              "    <tr>\n",
              "      <th>8</th>\n",
              "      <td>-0.6</td>\n",
              "      <td>-0.666667</td>\n",
              "      <td>0.00</td>\n",
              "      <td>0.25</td>\n",
              "      <td>-0.666667</td>\n",
              "      <td>0.6</td>\n",
              "      <td>-0.333333</td>\n",
              "      <td>-1.00</td>\n",
              "      <td>-0.75</td>\n",
              "      <td>1.000000</td>\n",
              "    </tr>\n",
              "    <tr>\n",
              "      <th>9</th>\n",
              "      <td>0.6</td>\n",
              "      <td>-0.333333</td>\n",
              "      <td>-1.00</td>\n",
              "      <td>-0.75</td>\n",
              "      <td>1.000000</td>\n",
              "      <td>-1.0</td>\n",
              "      <td>-1.000000</td>\n",
              "      <td>-1.00</td>\n",
              "      <td>-1.00</td>\n",
              "      <td>-0.666667</td>\n",
              "    </tr>\n",
              "    <tr>\n",
              "      <th>10</th>\n",
              "      <td>-1.0</td>\n",
              "      <td>-1.000000</td>\n",
              "      <td>-1.00</td>\n",
              "      <td>-1.00</td>\n",
              "      <td>-0.666667</td>\n",
              "      <td>0.6</td>\n",
              "      <td>0.333333</td>\n",
              "      <td>-1.00</td>\n",
              "      <td>-0.75</td>\n",
              "      <td>-0.333333</td>\n",
              "    </tr>\n",
              "    <tr>\n",
              "      <th>11</th>\n",
              "      <td>0.6</td>\n",
              "      <td>0.333333</td>\n",
              "      <td>-1.00</td>\n",
              "      <td>-0.75</td>\n",
              "      <td>-0.333333</td>\n",
              "      <td>-1.0</td>\n",
              "      <td>-1.000000</td>\n",
              "      <td>-1.00</td>\n",
              "      <td>-0.50</td>\n",
              "      <td>0.000000</td>\n",
              "    </tr>\n",
              "    <tr>\n",
              "      <th>12</th>\n",
              "      <td>-1.0</td>\n",
              "      <td>-1.000000</td>\n",
              "      <td>-1.00</td>\n",
              "      <td>-0.50</td>\n",
              "      <td>0.000000</td>\n",
              "      <td>-0.2</td>\n",
              "      <td>-0.666667</td>\n",
              "      <td>-1.00</td>\n",
              "      <td>1.00</td>\n",
              "      <td>-0.666667</td>\n",
              "    </tr>\n",
              "    <tr>\n",
              "      <th>13</th>\n",
              "      <td>-0.2</td>\n",
              "      <td>-0.666667</td>\n",
              "      <td>-1.00</td>\n",
              "      <td>1.00</td>\n",
              "      <td>-0.666667</td>\n",
              "      <td>1.0</td>\n",
              "      <td>-0.333333</td>\n",
              "      <td>0.50</td>\n",
              "      <td>-0.50</td>\n",
              "      <td>-0.666667</td>\n",
              "    </tr>\n",
              "    <tr>\n",
              "      <th>14</th>\n",
              "      <td>1.0</td>\n",
              "      <td>-0.333333</td>\n",
              "      <td>0.50</td>\n",
              "      <td>-0.50</td>\n",
              "      <td>-0.666667</td>\n",
              "      <td>1.0</td>\n",
              "      <td>-0.666667</td>\n",
              "      <td>-0.75</td>\n",
              "      <td>-0.75</td>\n",
              "      <td>-0.666667</td>\n",
              "    </tr>\n",
              "    <tr>\n",
              "      <th>15</th>\n",
              "      <td>1.0</td>\n",
              "      <td>-0.666667</td>\n",
              "      <td>-0.75</td>\n",
              "      <td>-0.75</td>\n",
              "      <td>-0.666667</td>\n",
              "      <td>0.2</td>\n",
              "      <td>-1.000000</td>\n",
              "      <td>-1.00</td>\n",
              "      <td>-1.00</td>\n",
              "      <td>-0.666667</td>\n",
              "    </tr>\n",
              "    <tr>\n",
              "      <th>16</th>\n",
              "      <td>0.2</td>\n",
              "      <td>-1.000000</td>\n",
              "      <td>-1.00</td>\n",
              "      <td>-1.00</td>\n",
              "      <td>-0.666667</td>\n",
              "      <td>0.2</td>\n",
              "      <td>-0.666667</td>\n",
              "      <td>-0.50</td>\n",
              "      <td>0.00</td>\n",
              "      <td>0.666667</td>\n",
              "    </tr>\n",
              "    <tr>\n",
              "      <th>17</th>\n",
              "      <td>0.2</td>\n",
              "      <td>-0.666667</td>\n",
              "      <td>-0.50</td>\n",
              "      <td>0.00</td>\n",
              "      <td>0.666667</td>\n",
              "      <td>-1.0</td>\n",
              "      <td>-0.666667</td>\n",
              "      <td>-1.00</td>\n",
              "      <td>-0.50</td>\n",
              "      <td>-1.000000</td>\n",
              "    </tr>\n",
              "    <tr>\n",
              "      <th>18</th>\n",
              "      <td>-1.0</td>\n",
              "      <td>-0.666667</td>\n",
              "      <td>-1.00</td>\n",
              "      <td>-0.50</td>\n",
              "      <td>-1.000000</td>\n",
              "      <td>-1.0</td>\n",
              "      <td>-1.000000</td>\n",
              "      <td>0.00</td>\n",
              "      <td>-0.25</td>\n",
              "      <td>-0.333333</td>\n",
              "    </tr>\n",
              "    <tr>\n",
              "      <th>19</th>\n",
              "      <td>-1.0</td>\n",
              "      <td>-1.000000</td>\n",
              "      <td>0.00</td>\n",
              "      <td>-0.25</td>\n",
              "      <td>-0.333333</td>\n",
              "      <td>0.2</td>\n",
              "      <td>-1.000000</td>\n",
              "      <td>-0.50</td>\n",
              "      <td>-1.00</td>\n",
              "      <td>0.333333</td>\n",
              "    </tr>\n",
              "    <tr>\n",
              "      <th>20</th>\n",
              "      <td>0.2</td>\n",
              "      <td>-1.000000</td>\n",
              "      <td>-0.50</td>\n",
              "      <td>-1.00</td>\n",
              "      <td>0.333333</td>\n",
              "      <td>-1.0</td>\n",
              "      <td>-1.000000</td>\n",
              "      <td>-0.50</td>\n",
              "      <td>-0.75</td>\n",
              "      <td>-0.666667</td>\n",
              "    </tr>\n",
              "    <tr>\n",
              "      <th>21</th>\n",
              "      <td>-1.0</td>\n",
              "      <td>-1.000000</td>\n",
              "      <td>-0.50</td>\n",
              "      <td>-0.75</td>\n",
              "      <td>-0.666667</td>\n",
              "      <td>-0.6</td>\n",
              "      <td>-0.666667</td>\n",
              "      <td>0.00</td>\n",
              "      <td>-0.75</td>\n",
              "      <td>-0.666667</td>\n",
              "    </tr>\n",
              "    <tr>\n",
              "      <th>22</th>\n",
              "      <td>-0.6</td>\n",
              "      <td>-0.666667</td>\n",
              "      <td>0.00</td>\n",
              "      <td>-0.75</td>\n",
              "      <td>-0.666667</td>\n",
              "      <td>0.2</td>\n",
              "      <td>-0.333333</td>\n",
              "      <td>-0.75</td>\n",
              "      <td>-1.00</td>\n",
              "      <td>-0.333333</td>\n",
              "    </tr>\n",
              "    <tr>\n",
              "      <th>23</th>\n",
              "      <td>0.2</td>\n",
              "      <td>-0.333333</td>\n",
              "      <td>-0.75</td>\n",
              "      <td>-1.00</td>\n",
              "      <td>-0.333333</td>\n",
              "      <td>0.6</td>\n",
              "      <td>-0.666667</td>\n",
              "      <td>-0.75</td>\n",
              "      <td>-0.75</td>\n",
              "      <td>-1.000000</td>\n",
              "    </tr>\n",
              "    <tr>\n",
              "      <th>24</th>\n",
              "      <td>0.6</td>\n",
              "      <td>-0.666667</td>\n",
              "      <td>-0.75</td>\n",
              "      <td>-0.75</td>\n",
              "      <td>-1.000000</td>\n",
              "      <td>0.2</td>\n",
              "      <td>-0.666667</td>\n",
              "      <td>-0.75</td>\n",
              "      <td>-0.50</td>\n",
              "      <td>-0.666667</td>\n",
              "    </tr>\n",
              "    <tr>\n",
              "      <th>25</th>\n",
              "      <td>0.2</td>\n",
              "      <td>-0.666667</td>\n",
              "      <td>-0.75</td>\n",
              "      <td>-0.50</td>\n",
              "      <td>-0.666667</td>\n",
              "      <td>-0.2</td>\n",
              "      <td>-0.666667</td>\n",
              "      <td>-0.50</td>\n",
              "      <td>-1.00</td>\n",
              "      <td>-1.000000</td>\n",
              "    </tr>\n",
              "    <tr>\n",
              "      <th>26</th>\n",
              "      <td>-0.2</td>\n",
              "      <td>-0.666667</td>\n",
              "      <td>-0.50</td>\n",
              "      <td>-1.00</td>\n",
              "      <td>-1.000000</td>\n",
              "      <td>-0.2</td>\n",
              "      <td>0.000000</td>\n",
              "      <td>-0.50</td>\n",
              "      <td>-0.25</td>\n",
              "      <td>0.333333</td>\n",
              "    </tr>\n",
              "    <tr>\n",
              "      <th>27</th>\n",
              "      <td>-0.2</td>\n",
              "      <td>0.000000</td>\n",
              "      <td>-0.50</td>\n",
              "      <td>-0.25</td>\n",
              "      <td>0.333333</td>\n",
              "      <td>-0.2</td>\n",
              "      <td>-1.000000</td>\n",
              "      <td>-1.00</td>\n",
              "      <td>0.00</td>\n",
              "      <td>-0.333333</td>\n",
              "    </tr>\n",
              "    <tr>\n",
              "      <th>28</th>\n",
              "      <td>-0.2</td>\n",
              "      <td>-1.000000</td>\n",
              "      <td>-1.00</td>\n",
              "      <td>0.00</td>\n",
              "      <td>-0.333333</td>\n",
              "      <td>-0.2</td>\n",
              "      <td>-0.333333</td>\n",
              "      <td>1.00</td>\n",
              "      <td>-0.50</td>\n",
              "      <td>-0.666667</td>\n",
              "    </tr>\n",
              "    <tr>\n",
              "      <th>29</th>\n",
              "      <td>-0.2</td>\n",
              "      <td>-0.333333</td>\n",
              "      <td>1.00</td>\n",
              "      <td>-0.50</td>\n",
              "      <td>-0.666667</td>\n",
              "      <td>-0.6</td>\n",
              "      <td>-0.333333</td>\n",
              "      <td>-1.00</td>\n",
              "      <td>-0.75</td>\n",
              "      <td>-0.666667</td>\n",
              "    </tr>\n",
              "    <tr>\n",
              "      <th>30</th>\n",
              "      <td>-0.6</td>\n",
              "      <td>-0.333333</td>\n",
              "      <td>-1.00</td>\n",
              "      <td>-0.75</td>\n",
              "      <td>-0.666667</td>\n",
              "      <td>-0.6</td>\n",
              "      <td>-1.000000</td>\n",
              "      <td>-0.50</td>\n",
              "      <td>-0.50</td>\n",
              "      <td>-0.666667</td>\n",
              "    </tr>\n",
              "    <tr>\n",
              "      <th>31</th>\n",
              "      <td>-0.6</td>\n",
              "      <td>-1.000000</td>\n",
              "      <td>-0.50</td>\n",
              "      <td>-0.50</td>\n",
              "      <td>-0.666667</td>\n",
              "      <td>0.6</td>\n",
              "      <td>-1.000000</td>\n",
              "      <td>-0.75</td>\n",
              "      <td>-0.75</td>\n",
              "      <td>-1.000000</td>\n",
              "    </tr>\n",
              "    <tr>\n",
              "      <th>32</th>\n",
              "      <td>0.6</td>\n",
              "      <td>-1.000000</td>\n",
              "      <td>-0.75</td>\n",
              "      <td>-0.75</td>\n",
              "      <td>-1.000000</td>\n",
              "      <td>-0.6</td>\n",
              "      <td>-1.000000</td>\n",
              "      <td>-0.75</td>\n",
              "      <td>-0.25</td>\n",
              "      <td>-0.666667</td>\n",
              "    </tr>\n",
              "    <tr>\n",
              "      <th>33</th>\n",
              "      <td>-0.6</td>\n",
              "      <td>-1.000000</td>\n",
              "      <td>-0.75</td>\n",
              "      <td>-0.25</td>\n",
              "      <td>-0.666667</td>\n",
              "      <td>-1.0</td>\n",
              "      <td>-1.000000</td>\n",
              "      <td>-0.75</td>\n",
              "      <td>-0.25</td>\n",
              "      <td>0.333333</td>\n",
              "    </tr>\n",
              "    <tr>\n",
              "      <th>34</th>\n",
              "      <td>-1.0</td>\n",
              "      <td>-1.000000</td>\n",
              "      <td>-0.75</td>\n",
              "      <td>-0.25</td>\n",
              "      <td>0.333333</td>\n",
              "      <td>-0.6</td>\n",
              "      <td>-0.666667</td>\n",
              "      <td>-1.00</td>\n",
              "      <td>-0.25</td>\n",
              "      <td>-1.000000</td>\n",
              "    </tr>\n",
              "    <tr>\n",
              "      <th>35</th>\n",
              "      <td>-0.6</td>\n",
              "      <td>-0.666667</td>\n",
              "      <td>-1.00</td>\n",
              "      <td>-0.25</td>\n",
              "      <td>-1.000000</td>\n",
              "      <td>-1.0</td>\n",
              "      <td>0.333333</td>\n",
              "      <td>0.50</td>\n",
              "      <td>0.00</td>\n",
              "      <td>-1.000000</td>\n",
              "    </tr>\n",
              "    <tr>\n",
              "      <th>36</th>\n",
              "      <td>-1.0</td>\n",
              "      <td>0.333333</td>\n",
              "      <td>0.50</td>\n",
              "      <td>0.00</td>\n",
              "      <td>-1.000000</td>\n",
              "      <td>-1.0</td>\n",
              "      <td>0.333333</td>\n",
              "      <td>-1.00</td>\n",
              "      <td>-1.00</td>\n",
              "      <td>1.000000</td>\n",
              "    </tr>\n",
              "    <tr>\n",
              "      <th>37</th>\n",
              "      <td>-1.0</td>\n",
              "      <td>0.333333</td>\n",
              "      <td>-1.00</td>\n",
              "      <td>-1.00</td>\n",
              "      <td>1.000000</td>\n",
              "      <td>-0.2</td>\n",
              "      <td>-0.333333</td>\n",
              "      <td>-0.25</td>\n",
              "      <td>-1.00</td>\n",
              "      <td>-0.333333</td>\n",
              "    </tr>\n",
              "    <tr>\n",
              "      <th>38</th>\n",
              "      <td>-0.2</td>\n",
              "      <td>-0.333333</td>\n",
              "      <td>-0.25</td>\n",
              "      <td>-1.00</td>\n",
              "      <td>-0.333333</td>\n",
              "      <td>-0.6</td>\n",
              "      <td>0.333333</td>\n",
              "      <td>-1.00</td>\n",
              "      <td>-0.75</td>\n",
              "      <td>-0.666667</td>\n",
              "    </tr>\n",
              "    <tr>\n",
              "      <th>39</th>\n",
              "      <td>-0.6</td>\n",
              "      <td>0.333333</td>\n",
              "      <td>-1.00</td>\n",
              "      <td>-0.75</td>\n",
              "      <td>-0.666667</td>\n",
              "      <td>-0.6</td>\n",
              "      <td>-0.666667</td>\n",
              "      <td>-1.00</td>\n",
              "      <td>0.50</td>\n",
              "      <td>-1.000000</td>\n",
              "    </tr>\n",
              "    <tr>\n",
              "      <th>40</th>\n",
              "      <td>-0.6</td>\n",
              "      <td>-0.666667</td>\n",
              "      <td>-1.00</td>\n",
              "      <td>0.50</td>\n",
              "      <td>-1.000000</td>\n",
              "      <td>-0.6</td>\n",
              "      <td>-1.000000</td>\n",
              "      <td>-1.00</td>\n",
              "      <td>-1.00</td>\n",
              "      <td>-0.333333</td>\n",
              "    </tr>\n",
              "    <tr>\n",
              "      <th>41</th>\n",
              "      <td>-0.6</td>\n",
              "      <td>-1.000000</td>\n",
              "      <td>-1.00</td>\n",
              "      <td>-1.00</td>\n",
              "      <td>-0.333333</td>\n",
              "      <td>-1.0</td>\n",
              "      <td>-1.000000</td>\n",
              "      <td>-0.75</td>\n",
              "      <td>-0.25</td>\n",
              "      <td>-0.666667</td>\n",
              "    </tr>\n",
              "    <tr>\n",
              "      <th>42</th>\n",
              "      <td>-1.0</td>\n",
              "      <td>-1.000000</td>\n",
              "      <td>-0.75</td>\n",
              "      <td>-0.25</td>\n",
              "      <td>-0.666667</td>\n",
              "      <td>-0.2</td>\n",
              "      <td>-1.000000</td>\n",
              "      <td>-0.50</td>\n",
              "      <td>-0.75</td>\n",
              "      <td>0.333333</td>\n",
              "    </tr>\n",
              "    <tr>\n",
              "      <th>43</th>\n",
              "      <td>-0.2</td>\n",
              "      <td>-1.000000</td>\n",
              "      <td>-0.50</td>\n",
              "      <td>-0.75</td>\n",
              "      <td>0.333333</td>\n",
              "      <td>0.6</td>\n",
              "      <td>-0.333333</td>\n",
              "      <td>-0.25</td>\n",
              "      <td>-0.50</td>\n",
              "      <td>-0.666667</td>\n",
              "    </tr>\n",
              "    <tr>\n",
              "      <th>44</th>\n",
              "      <td>0.6</td>\n",
              "      <td>-0.333333</td>\n",
              "      <td>-0.25</td>\n",
              "      <td>-0.50</td>\n",
              "      <td>-0.666667</td>\n",
              "      <td>-0.6</td>\n",
              "      <td>-1.000000</td>\n",
              "      <td>-0.75</td>\n",
              "      <td>-0.25</td>\n",
              "      <td>-1.000000</td>\n",
              "    </tr>\n",
              "    <tr>\n",
              "      <th>45</th>\n",
              "      <td>-0.6</td>\n",
              "      <td>-1.000000</td>\n",
              "      <td>-0.75</td>\n",
              "      <td>-0.25</td>\n",
              "      <td>-1.000000</td>\n",
              "      <td>0.2</td>\n",
              "      <td>0.000000</td>\n",
              "      <td>-0.75</td>\n",
              "      <td>0.00</td>\n",
              "      <td>-0.333333</td>\n",
              "    </tr>\n",
              "    <tr>\n",
              "      <th>46</th>\n",
              "      <td>0.2</td>\n",
              "      <td>0.000000</td>\n",
              "      <td>-0.75</td>\n",
              "      <td>0.00</td>\n",
              "      <td>-0.333333</td>\n",
              "      <td>0.2</td>\n",
              "      <td>-0.666667</td>\n",
              "      <td>0.00</td>\n",
              "      <td>-0.50</td>\n",
              "      <td>0.000000</td>\n",
              "    </tr>\n",
              "    <tr>\n",
              "      <th>47</th>\n",
              "      <td>0.2</td>\n",
              "      <td>-0.666667</td>\n",
              "      <td>0.00</td>\n",
              "      <td>-0.50</td>\n",
              "      <td>0.000000</td>\n",
              "      <td>-0.6</td>\n",
              "      <td>-0.666667</td>\n",
              "      <td>-1.00</td>\n",
              "      <td>-0.50</td>\n",
              "      <td>-1.000000</td>\n",
              "    </tr>\n",
              "    <tr>\n",
              "      <th>48</th>\n",
              "      <td>-0.6</td>\n",
              "      <td>-0.666667</td>\n",
              "      <td>-1.00</td>\n",
              "      <td>-0.50</td>\n",
              "      <td>-1.000000</td>\n",
              "      <td>-0.2</td>\n",
              "      <td>-1.000000</td>\n",
              "      <td>-0.50</td>\n",
              "      <td>-0.50</td>\n",
              "      <td>-0.333333</td>\n",
              "    </tr>\n",
              "  </tbody>\n",
              "</table>\n",
              "</div>"
            ],
            "text/plain": [
              "   var1(t-1) var2(t-1) var3(t-1) var4(t-1)  ...   var2(t) var3(t) var4(t)   var5(t)\n",
              "0       -0.2 -0.333333     -1.00     -0.75  ...  0.333333   -1.00   -0.75 -0.666667\n",
              "1        0.6  0.333333     -1.00     -0.75  ... -1.000000   -0.50   -1.00 -1.000000\n",
              "2       -0.2 -1.000000     -0.50     -1.00  ...  0.333333   -0.75   -1.00 -1.000000\n",
              "3       -0.2  0.333333     -0.75     -1.00  ...  1.000000    0.00   -1.00 -0.666667\n",
              "4       -0.2  1.000000      0.00     -1.00  ... -0.666667   -0.50   -0.50  0.000000\n",
              "5       -0.2 -0.666667     -0.50     -0.50  ... -0.333333   -0.50    0.00 -1.000000\n",
              "6       -0.6 -0.333333     -0.50      0.00  ... -0.333333   -0.75   -1.00 -1.000000\n",
              "7       -0.6 -0.333333     -0.75     -1.00  ... -0.666667    0.00    0.25 -0.666667\n",
              "8       -0.6 -0.666667      0.00      0.25  ... -0.333333   -1.00   -0.75  1.000000\n",
              "9        0.6 -0.333333     -1.00     -0.75  ... -1.000000   -1.00   -1.00 -0.666667\n",
              "10      -1.0 -1.000000     -1.00     -1.00  ...  0.333333   -1.00   -0.75 -0.333333\n",
              "11       0.6  0.333333     -1.00     -0.75  ... -1.000000   -1.00   -0.50  0.000000\n",
              "12      -1.0 -1.000000     -1.00     -0.50  ... -0.666667   -1.00    1.00 -0.666667\n",
              "13      -0.2 -0.666667     -1.00      1.00  ... -0.333333    0.50   -0.50 -0.666667\n",
              "14       1.0 -0.333333      0.50     -0.50  ... -0.666667   -0.75   -0.75 -0.666667\n",
              "15       1.0 -0.666667     -0.75     -0.75  ... -1.000000   -1.00   -1.00 -0.666667\n",
              "16       0.2 -1.000000     -1.00     -1.00  ... -0.666667   -0.50    0.00  0.666667\n",
              "17       0.2 -0.666667     -0.50      0.00  ... -0.666667   -1.00   -0.50 -1.000000\n",
              "18      -1.0 -0.666667     -1.00     -0.50  ... -1.000000    0.00   -0.25 -0.333333\n",
              "19      -1.0 -1.000000      0.00     -0.25  ... -1.000000   -0.50   -1.00  0.333333\n",
              "20       0.2 -1.000000     -0.50     -1.00  ... -1.000000   -0.50   -0.75 -0.666667\n",
              "21      -1.0 -1.000000     -0.50     -0.75  ... -0.666667    0.00   -0.75 -0.666667\n",
              "22      -0.6 -0.666667      0.00     -0.75  ... -0.333333   -0.75   -1.00 -0.333333\n",
              "23       0.2 -0.333333     -0.75     -1.00  ... -0.666667   -0.75   -0.75 -1.000000\n",
              "24       0.6 -0.666667     -0.75     -0.75  ... -0.666667   -0.75   -0.50 -0.666667\n",
              "25       0.2 -0.666667     -0.75     -0.50  ... -0.666667   -0.50   -1.00 -1.000000\n",
              "26      -0.2 -0.666667     -0.50     -1.00  ...  0.000000   -0.50   -0.25  0.333333\n",
              "27      -0.2  0.000000     -0.50     -0.25  ... -1.000000   -1.00    0.00 -0.333333\n",
              "28      -0.2 -1.000000     -1.00      0.00  ... -0.333333    1.00   -0.50 -0.666667\n",
              "29      -0.2 -0.333333      1.00     -0.50  ... -0.333333   -1.00   -0.75 -0.666667\n",
              "30      -0.6 -0.333333     -1.00     -0.75  ... -1.000000   -0.50   -0.50 -0.666667\n",
              "31      -0.6 -1.000000     -0.50     -0.50  ... -1.000000   -0.75   -0.75 -1.000000\n",
              "32       0.6 -1.000000     -0.75     -0.75  ... -1.000000   -0.75   -0.25 -0.666667\n",
              "33      -0.6 -1.000000     -0.75     -0.25  ... -1.000000   -0.75   -0.25  0.333333\n",
              "34      -1.0 -1.000000     -0.75     -0.25  ... -0.666667   -1.00   -0.25 -1.000000\n",
              "35      -0.6 -0.666667     -1.00     -0.25  ...  0.333333    0.50    0.00 -1.000000\n",
              "36      -1.0  0.333333      0.50      0.00  ...  0.333333   -1.00   -1.00  1.000000\n",
              "37      -1.0  0.333333     -1.00     -1.00  ... -0.333333   -0.25   -1.00 -0.333333\n",
              "38      -0.2 -0.333333     -0.25     -1.00  ...  0.333333   -1.00   -0.75 -0.666667\n",
              "39      -0.6  0.333333     -1.00     -0.75  ... -0.666667   -1.00    0.50 -1.000000\n",
              "40      -0.6 -0.666667     -1.00      0.50  ... -1.000000   -1.00   -1.00 -0.333333\n",
              "41      -0.6 -1.000000     -1.00     -1.00  ... -1.000000   -0.75   -0.25 -0.666667\n",
              "42      -1.0 -1.000000     -0.75     -0.25  ... -1.000000   -0.50   -0.75  0.333333\n",
              "43      -0.2 -1.000000     -0.50     -0.75  ... -0.333333   -0.25   -0.50 -0.666667\n",
              "44       0.6 -0.333333     -0.25     -0.50  ... -1.000000   -0.75   -0.25 -1.000000\n",
              "45      -0.6 -1.000000     -0.75     -0.25  ...  0.000000   -0.75    0.00 -0.333333\n",
              "46       0.2  0.000000     -0.75      0.00  ... -0.666667    0.00   -0.50  0.000000\n",
              "47       0.2 -0.666667      0.00     -0.50  ... -0.666667   -1.00   -0.50 -1.000000\n",
              "48      -0.6 -0.666667     -1.00     -0.50  ... -1.000000   -0.50   -0.50 -0.333333\n",
              "\n",
              "[49 rows x 10 columns]"
            ]
          },
          "metadata": {},
          "execution_count": 8
        }
      ]
    },
    {
      "cell_type": "markdown",
      "metadata": {
        "id": "bMUW4WG661MX"
      },
      "source": [
        "Train - Test data "
      ]
    },
    {
      "cell_type": "code",
      "metadata": {
        "id": "sgJwS-_w64Du"
      },
      "source": [
        "def reshape_data_single_lag(reframed, train_percentage, test_percentage, valid_percentage):\n",
        "\t# split into train and test sets\n",
        "\tvalues = reframed.values\n",
        "\t# Sizes\n",
        "\ttrain_size = int(len(reframed) * train_percentage)\n",
        "\ttest_size = int(len(reframed) * test_percentage)\n",
        "\tvalid_size = int(len(reframed) * valid_percentage)\n",
        "\n",
        "\ttrain = values[:train_size]\n",
        "\ttest = values[train_size:train_size + test_size]\n",
        "\tval = values[train_size + test_size:]\n",
        "\n",
        "\t# split into input and outputs\n",
        "\ttrain_X, train_y = train[:, :-1], train[:, -1]\n",
        "\ttest_X, test_y = test[:, :-1], test[:, -1]\n",
        "\tval_X, val_y = val[:, :-1], val[:, -1]\n",
        "\t# print(train_X.shape)\n",
        "\n",
        "\t### this reshape below is we using it for univariate timeseries\n",
        "\t# reshape input to be 3D [samples, timesteps, features]\n",
        "\ttrain_X = train_X.reshape((train_X.shape[0], 1, train_X.shape[1]))\n",
        "\ttest_X = test_X.reshape((test_X.shape[0], 1, test_X.shape[1]))\n",
        "\tval_X = val_X.reshape((val_X.shape[0], 1, val_X.shape[1]))\n",
        "\n",
        "\tprint(train_X.shape, train_y.shape, test_X.shape, test_y.shape, val_X.shape, val_y.shape)\n",
        "\n",
        "\treturn train_X, train_y, test_X, test_y, val_X, val_y"
      ],
      "execution_count": null,
      "outputs": []
    },
    {
      "cell_type": "code",
      "metadata": {
        "colab": {
          "base_uri": "https://localhost:8080/"
        },
        "id": "6_LnxoNR665S",
        "outputId": "3cde015b-d8e4-4068-f8cb-58a54611fe4e"
      },
      "source": [
        "train_X, train_y, test_X, test_y, val_X, val_y = reshape_data_single_lag(scaled_df,  0.45, 0.35, 0.2 )"
      ],
      "execution_count": null,
      "outputs": [
        {
          "output_type": "stream",
          "name": "stdout",
          "text": [
            "(22, 1, 9) (22,) (17, 1, 9) (17,) (10, 1, 9) (10,)\n"
          ]
        }
      ]
    },
    {
      "cell_type": "markdown",
      "metadata": {
        "id": "aATdm8jO7BbT"
      },
      "source": [
        "## LSTM Model architecture"
      ]
    },
    {
      "cell_type": "code",
      "metadata": {
        "id": "ReK99rIz7AY-"
      },
      "source": [
        "from tensorflow.keras import Sequential\n",
        "from tensorflow.keras.layers import Flatten, MaxPooling3D, Flatten\n",
        "from tensorflow.keras.layers import LSTM, Dense, Dropout\n",
        "from tensorflow.keras.layers import Conv1D, Conv3D\n",
        "\n",
        "def LSTM_model(train_X, train_y, test_X, test_y):\n",
        "    # design network\n",
        "    model = Sequential()\n",
        "    model.add(LSTM(90, return_sequences = True,  input_shape=(train_X.shape[1], train_X.shape[2])))  # 1 , 2\n",
        "    model.add(Dropout(0.75))\n",
        "    model.add(LSTM(70, return_sequences = True,  input_shape=(train_X.shape[1], train_X.shape[2])))  # 1 , 2\n",
        "    model.add(Dropout(0.75))\n",
        "    model.add(LSTM(50, return_sequences = True,  input_shape=(train_X.shape[1], train_X.shape[2])))  # 1 , 2\n",
        "    model.add(Dropout(0.75))\n",
        "    model.add(LSTM(30, return_sequences = True,  input_shape=(train_X.shape[1], train_X.shape[2])))  # 1 , 2\n",
        "    model.add(Dropout(0.75))\n",
        "    model.add(LSTM(30, return_sequences = True,  input_shape=(train_X.shape[1], train_X.shape[2])))  # 1 , 2\n",
        "    model.add(Dropout(0.75))\n",
        "    model.add(LSTM(15, return_sequences = False ))\n",
        "    model.add(Dropout(0.5))\n",
        "    #model.add(LSTM(30, return_sequences = False ))\n",
        "    #model.add(Dropout(0.2))\n",
        "    #model.add(LSTM(15, return_sequences = False ))\n",
        "    #model.add(Dense(50))\n",
        "    #model.add(Dropout(0.2))\n",
        "    model.add(Dense(1))\n",
        "    model.compile(loss='mse', optimizer='adam')\n",
        "    # fit network\n",
        "    model.fit(train_X, train_y, epochs=10, batch_size=8, validation_data=(test_X, test_y),verbose=2, shuffle=False)\n",
        "    return model"
      ],
      "execution_count": null,
      "outputs": []
    },
    {
      "cell_type": "code",
      "metadata": {
        "colab": {
          "base_uri": "https://localhost:8080/"
        },
        "id": "YAz_qpLI7F14",
        "outputId": "31b2ab22-7a6a-402a-8426-4db8a47cd261"
      },
      "source": [
        "model = LSTM_model(train_X, train_y, test_X, test_y)"
      ],
      "execution_count": null,
      "outputs": [
        {
          "output_type": "stream",
          "name": "stdout",
          "text": [
            "Epoch 1/10\n",
            "3/3 - 12s - loss: 0.5087 - val_loss: 0.5362\n",
            "Epoch 2/10\n",
            "3/3 - 0s - loss: 0.5032 - val_loss: 0.5303\n",
            "Epoch 3/10\n",
            "3/3 - 0s - loss: 0.4985 - val_loss: 0.5244\n",
            "Epoch 4/10\n",
            "3/3 - 0s - loss: 0.4908 - val_loss: 0.5184\n",
            "Epoch 5/10\n",
            "3/3 - 0s - loss: 0.4859 - val_loss: 0.5123\n",
            "Epoch 6/10\n",
            "3/3 - 0s - loss: 0.4810 - val_loss: 0.5063\n",
            "Epoch 7/10\n",
            "3/3 - 0s - loss: 0.4736 - val_loss: 0.5002\n",
            "Epoch 8/10\n",
            "3/3 - 0s - loss: 0.4700 - val_loss: 0.4941\n",
            "Epoch 9/10\n",
            "3/3 - 0s - loss: 0.4586 - val_loss: 0.4880\n",
            "Epoch 10/10\n",
            "3/3 - 0s - loss: 0.4591 - val_loss: 0.4818\n"
          ]
        }
      ]
    },
    {
      "cell_type": "code",
      "metadata": {
        "colab": {
          "base_uri": "https://localhost:8080/"
        },
        "id": "qpyRZ7gH7P8H",
        "outputId": "485bb592-bcef-4658-bf6a-3cc842ebe72c"
      },
      "source": [
        "model.summary()"
      ],
      "execution_count": null,
      "outputs": [
        {
          "output_type": "stream",
          "name": "stdout",
          "text": [
            "Model: \"sequential\"\n",
            "_________________________________________________________________\n",
            "Layer (type)                 Output Shape              Param #   \n",
            "=================================================================\n",
            "lstm (LSTM)                  (None, 1, 90)             36000     \n",
            "_________________________________________________________________\n",
            "dropout (Dropout)            (None, 1, 90)             0         \n",
            "_________________________________________________________________\n",
            "lstm_1 (LSTM)                (None, 1, 70)             45080     \n",
            "_________________________________________________________________\n",
            "dropout_1 (Dropout)          (None, 1, 70)             0         \n",
            "_________________________________________________________________\n",
            "lstm_2 (LSTM)                (None, 1, 50)             24200     \n",
            "_________________________________________________________________\n",
            "dropout_2 (Dropout)          (None, 1, 50)             0         \n",
            "_________________________________________________________________\n",
            "lstm_3 (LSTM)                (None, 1, 30)             9720      \n",
            "_________________________________________________________________\n",
            "dropout_3 (Dropout)          (None, 1, 30)             0         \n",
            "_________________________________________________________________\n",
            "lstm_4 (LSTM)                (None, 1, 30)             7320      \n",
            "_________________________________________________________________\n",
            "dropout_4 (Dropout)          (None, 1, 30)             0         \n",
            "_________________________________________________________________\n",
            "lstm_5 (LSTM)                (None, 15)                2760      \n",
            "_________________________________________________________________\n",
            "dropout_5 (Dropout)          (None, 15)                0         \n",
            "_________________________________________________________________\n",
            "dense (Dense)                (None, 1)                 16        \n",
            "=================================================================\n",
            "Total params: 125,096\n",
            "Trainable params: 125,096\n",
            "Non-trainable params: 0\n",
            "_________________________________________________________________\n"
          ]
        }
      ]
    },
    {
      "cell_type": "markdown",
      "metadata": {
        "id": "wGvZi-lx7KJs"
      },
      "source": [
        "## Train - Test  loses"
      ]
    },
    {
      "cell_type": "code",
      "metadata": {
        "id": "KF_22qc37JlV"
      },
      "source": [
        "def plot_train_test_loss(model):\n",
        "    mpl.rcParams['figure.figsize'] = (12, 8)\n",
        "    mpl.rcParams['axes.grid'] = False\n",
        "    # plot history\n",
        "    plt.plot(model.history.history['loss'], label='train')\n",
        "    plt.plot(model.history.history['val_loss'], label='test')\n",
        "    plt.legend()\n",
        "    plt.show()"
      ],
      "execution_count": null,
      "outputs": []
    },
    {
      "cell_type": "code",
      "metadata": {
        "colab": {
          "base_uri": "https://localhost:8080/",
          "height": 486
        },
        "id": "tF_ZxqRF7Rxj",
        "outputId": "b8d4c467-2428-405f-9e6b-f88a574d584a"
      },
      "source": [
        "import matplotlib as mpl\n",
        "import matplotlib.pyplot as plt \n",
        "\n",
        "plot_train_test_loss(model)"
      ],
      "execution_count": null,
      "outputs": [
        {
          "output_type": "display_data",
          "data": {
            "image/png": "[encoded data removed]",
            "text/plain": [
              "<Figure size 864x576 with 1 Axes>"
            ]
          },
          "metadata": {
            "needs_background": "light"
          }
        }
      ]
    },
    {
      "cell_type": "markdown",
      "metadata": {
        "id": "SMm34EJw7UzD"
      },
      "source": [
        "## Predictions and scores"
      ]
    },
    {
      "cell_type": "code",
      "metadata": {
        "id": "BaFVxmdI7W2V"
      },
      "source": [
        "def predictions_and_scores_for_LSTM(model, test_X,test_y):\n",
        "\t# make a prediction\n",
        "\tyhat = model.predict(test_X)\n",
        "\t# test_X_reshaped = test_X.reshape((test_X.shape[0], 3*2))\n",
        "\tyhat_reshaped = yhat.reshape((yhat.shape[0], yhat.shape[1]))\n",
        "\n",
        "\ttest_y_reshaped = test_y.reshape((len(test_y), 1))\n",
        "\n",
        "\t# calculate RMSE and R2_score\n",
        "\trmse = sqrt(mean_squared_error(test_y_reshaped, yhat_reshaped))\n",
        "\tr2score = r2_score(test_y_reshaped, yhat_reshaped)\n",
        "\t\n",
        "\tprint('Test RMSE: %.3f' % rmse)\n",
        "\tprint('R2_score: %f' % r2score)\n",
        "\treturn rmse, r2score"
      ],
      "execution_count": null,
      "outputs": []
    },
    {
      "cell_type": "code",
      "metadata": {
        "colab": {
          "base_uri": "https://localhost:8080/"
        },
        "id": "RN2-xfiJ7ZCk",
        "outputId": "6f794409-af6a-4879-f389-9c2a7f558aef"
      },
      "source": [
        "from math import sqrt\n",
        "from sklearn.metrics import mean_squared_error, r2_score\n",
        "\n",
        "predictions_and_scores_for_LSTM(model, test_X, test_y)"
      ],
      "execution_count": null,
      "outputs": [
        {
          "output_type": "stream",
          "name": "stdout",
          "text": [
            "Test RMSE: 0.694\n",
            "R2_score: -0.594278\n"
          ]
        },
        {
          "output_type": "execute_result",
          "data": {
            "text/plain": [
              "(0.6941017582219153, -0.5942779327227838)"
            ]
          },
          "metadata": {},
          "execution_count": 17
        }
      ]
    },
    {
      "cell_type": "markdown",
      "metadata": {
        "id": "wXEOn6_2Erwy"
      },
      "source": [
        "# Influential Instances using Deletion Diagnostics"
      ]
    },
    {
      "cell_type": "code",
      "metadata": {
        "id": "bGP8RJSgJdOY",
        "colab": {
          "base_uri": "https://localhost:8080/"
        },
        "outputId": "b4043697-ca8d-4cea-de02-d48fffee22d0"
      },
      "source": [
        "# The weights of the first model without deleting one or more \n",
        "initial_model_weights = model.get_weights()\n",
        "len(initial_model_weights)\n"
      ],
      "execution_count": null,
      "outputs": [
        {
          "output_type": "execute_result",
          "data": {
            "text/plain": [
              "20"
            ]
          },
          "metadata": {},
          "execution_count": 18
        }
      ]
    },
    {
      "cell_type": "code",
      "metadata": {
        "id": "5NghmuQIE0HJ",
        "colab": {
          "base_uri": "https://localhost:8080/"
        },
        "outputId": "69048155-00ce-4052-f89e-315534feb95c"
      },
      "source": [
        "model_weights = []\n",
        "rmse = []\n",
        "r2score = []\n",
        "\n",
        "for index, i in enumerate(train_X):\n",
        "  train_X_without_i = np.delete(train_X, index, 0)\n",
        "  train_y_without_i = np.delete(train_y, index, 0)\n",
        "  model_without_i = LSTM_model(train_X_without_i, train_y_without_i, test_X, test_y)\n",
        "  rmse_without_i, r2score_without_i = predictions_and_scores_for_LSTM(model_without_i, train_X_without_i, train_y_without_i)\n",
        "  model_weights += model_without_i.get_weights()\n",
        "  rmse.append(rmse_without_i)\n",
        "  r2score.append(r2score_without_i)\n",
        "\n",
        "\n"
      ],
      "execution_count": null,
      "outputs": [
        {
          "output_type": "stream",
          "name": "stdout",
          "text": [
            "Epoch 4/10\n",
            "3/3 - 0s - loss: 0.5108 - val_loss: 0.5199\n",
            "Epoch 5/10\n",
            "3/3 - 0s - loss: 0.5045 - val_loss: 0.5143\n",
            "Epoch 6/10\n",
            "3/3 - 0s - loss: 0.4999 - val_loss: 0.5086\n",
            "Epoch 7/10\n",
            "3/3 - 0s - loss: 0.4931 - val_loss: 0.5029\n",
            "Epoch 8/10\n",
            "3/3 - 0s - loss: 0.4855 - val_loss: 0.4971\n",
            "Epoch 9/10\n",
            "3/3 - 0s - loss: 0.4816 - val_loss: 0.4913\n",
            "Epoch 10/10\n",
            "3/3 - 0s - loss: 0.4782 - val_loss: 0.4855\n",
            "Test RMSE: 0.686\n",
            "R2_score: -0.733438\n",
            "Epoch 1/10\n",
            "3/3 - 12s - loss: 0.5124 - val_loss: 0.5363\n",
            "Epoch 2/10\n",
            "3/3 - 0s - loss: 0.5074 - val_loss: 0.5307\n",
            "Epoch 3/10\n",
            "3/3 - 0s - loss: 0.5020 - val_loss: 0.5252\n",
            "Epoch 4/10\n",
            "3/3 - 0s - loss: 0.4950 - val_loss: 0.5194\n",
            "Epoch 5/10\n",
            "3/3 - 0s - loss: 0.4905 - val_loss: 0.5136\n",
            "Epoch 6/10\n",
            "3/3 - 0s - loss: 0.4883 - val_loss: 0.5079\n",
            "Epoch 7/10\n",
            "3/3 - 0s - loss: 0.4775 - val_loss: 0.5021\n",
            "Epoch 8/10\n",
            "3/3 - 0s - loss: 0.4749 - val_loss: 0.4962\n",
            "Epoch 9/10\n",
            "3/3 - 0s - loss: 0.4709 - val_loss: 0.4904\n",
            "Epoch 10/10\n",
            "3/3 - 0s - loss: 0.4613 - val_loss: 0.4845\n",
            "Test RMSE: 0.678\n",
            "R2_score: -0.523404\n",
            "Epoch 1/10\n",
            "3/3 - 12s - loss: 0.5121 - val_loss: 0.5364\n",
            "Epoch 2/10\n",
            "3/3 - 0s - loss: 0.5062 - val_loss: 0.5306\n",
            "Epoch 3/10\n",
            "3/3 - 0s - loss: 0.4998 - val_loss: 0.5249\n",
            "Epoch 4/10\n",
            "3/3 - 0s - loss: 0.4961 - val_loss: 0.5192\n",
            "Epoch 5/10\n",
            "3/3 - 0s - loss: 0.4908 - val_loss: 0.5135\n",
            "Epoch 6/10\n",
            "3/3 - 0s - loss: 0.4858 - val_loss: 0.5079\n",
            "Epoch 7/10\n",
            "3/3 - 0s - loss: 0.4780 - val_loss: 0.5021\n",
            "Epoch 8/10\n",
            "3/3 - 0s - loss: 0.4731 - val_loss: 0.4963\n",
            "Epoch 9/10\n",
            "3/3 - 0s - loss: 0.4663 - val_loss: 0.4904\n",
            "Epoch 10/10\n",
            "3/3 - 0s - loss: 0.4579 - val_loss: 0.4844\n",
            "Test RMSE: 0.677\n",
            "R2_score: -0.522871\n"
          ]
        }
      ]
    },
    {
      "cell_type": "code",
      "metadata": {
        "colab": {
          "base_uri": "https://localhost:8080/"
        },
        "id": "qMzNvgx8TC-j",
        "outputId": "78c9a576-bffd-4978-d505-311e523861e6"
      },
      "source": [
        "len(model_without_i.get_weights())"
      ],
      "execution_count": null,
      "outputs": [
        {
          "output_type": "execute_result",
          "data": {
            "text/plain": [
              "20"
            ]
          },
          "metadata": {},
          "execution_count": 47
        }
      ]
    },
    {
      "cell_type": "code",
      "metadata": {
        "colab": {
          "base_uri": "https://localhost:8080/"
        },
        "id": "nVJruEosQjRG",
        "outputId": "a551590e-ec5d-4c7b-f03a-db66dca00439"
      },
      "source": [
        "len(model_weights)"
      ],
      "execution_count": null,
      "outputs": [
        {
          "output_type": "execute_result",
          "data": {
            "text/plain": [
              "440"
            ]
          },
          "metadata": {},
          "execution_count": 48
        }
      ]
    },
    {
      "cell_type": "markdown",
      "metadata": {
        "id": "09-SZCEVFJe5"
      },
      "source": [
        "## Identification of most Influential instances with the use of DFBETA\n",
        "\n",
        "$DFBETA = β - β^{(-i)}$"
      ]
    },
    {
      "cell_type": "code",
      "metadata": {
        "colab": {
          "base_uri": "https://localhost:8080/"
        },
        "id": "usFiZyRbL3mP",
        "outputId": "130f6c1d-24f2-492d-e6c3-42aab5763013"
      },
      "source": [
        "initial_model_weights[0].shape"
      ],
      "execution_count": null,
      "outputs": [
        {
          "output_type": "execute_result",
          "data": {
            "text/plain": [
              "(9, 360)"
            ]
          },
          "metadata": {},
          "execution_count": 49
        }
      ]
    },
    {
      "cell_type": "code",
      "metadata": {
        "colab": {
          "base_uri": "https://localhost:8080/"
        },
        "id": "QbHEoNDKYz3o",
        "outputId": "4fb9c2aa-fe79-4a23-eb30-83e5a05c45b0"
      },
      "source": [
        "model_weights[20].shape"
      ],
      "execution_count": null,
      "outputs": [
        {
          "output_type": "execute_result",
          "data": {
            "text/plain": [
              "(9, 360)"
            ]
          },
          "metadata": {},
          "execution_count": 50
        }
      ]
    },
    {
      "cell_type": "code",
      "metadata": {
        "colab": {
          "base_uri": "https://localhost:8080/"
        },
        "id": "AWfsXN1xORaF",
        "outputId": "6dc5cef4-398c-4a3c-8f4e-6e042a217d8b"
      },
      "source": [
        "print(len(initial_model_weights))\n",
        "print(len(model_weights))"
      ],
      "execution_count": null,
      "outputs": [
        {
          "output_type": "stream",
          "name": "stdout",
          "text": [
            "20\n",
            "440\n"
          ]
        }
      ]
    },
    {
      "cell_type": "code",
      "metadata": {
        "id": "VhXY_cc0TfJK"
      },
      "source": [
        "for index, i in enumerate(model_weights):\n",
        "  # print(i)\n",
        "  print(index)"
      ],
      "execution_count": null,
      "outputs": []
    },
    {
      "cell_type": "markdown",
      "metadata": {
        "id": "chB8tDXOHyIE"
      },
      "source": [
        "## DFBETA"
      ]
    },
    {
      "cell_type": "code",
      "metadata": {
        "id": "4mzlmLg9FNtt"
      },
      "source": [
        "total_weights = int(len(model_weights)/len(initial_model_weights))\n",
        "count=0\n",
        "# print(len(model_weights))\n",
        "# print(len(initial_model_weights))\n",
        "\n",
        "# for i in range(0, 2):\n",
        "count = 0\n",
        "dfbeta_all = []\n",
        "dfbeta_sum = []\n",
        "for i in range(0, len(model_weights)):\n",
        "  dfbeta = np.subtract(initial_model_weights[i-count], model_weights[i])\n",
        "  dfbeta_all.append(dfbeta)\n",
        "  if (i % len(initial_model_weights)==0):\n",
        "    count+=len(initial_model_weights)\n",
        "    dfbeta_sum.append(np.sum(dfbeta))\n",
        "\n",
        "dfbeta_sum_abs = np.abs(dfbeta_sum)\n",
        "dfbeta_sum = np.array(dfbeta_sum)"
      ],
      "execution_count": null,
      "outputs": []
    },
    {
      "cell_type": "code",
      "metadata": {
        "id": "ZQqaKEXVRi9s"
      },
      "source": [
        "dfbeta_sum"
      ],
      "execution_count": null,
      "outputs": []
    },
    {
      "cell_type": "code",
      "metadata": {
        "id": "OAEXV2jwO0NJ"
      },
      "source": [
        "dfbeta_sum_abs"
      ],
      "execution_count": null,
      "outputs": []
    },
    {
      "cell_type": "code",
      "metadata": {
        "id": "IuavY9_inBWm"
      },
      "source": [
        "most_influential_instances_indices = []\n",
        "number_of_influential_instances = len(dfbeta_sum)\n",
        "for i in range(0, number_of_influential_instances):\n",
        "  most_influential_instances_indices.append(np.argmax(dfbeta_sum))\n",
        "  dfbeta_sum[np.argmax(dfbeta_sum)] = -1000\n",
        "\n",
        "most_influential_instances_indices"
      ],
      "execution_count": null,
      "outputs": []
    },
    {
      "cell_type": "code",
      "metadata": {
        "id": "a1-vhXs0psPr"
      },
      "source": [
        "dfbeta_sum_abs"
      ],
      "execution_count": null,
      "outputs": []
    },
    {
      "cell_type": "code",
      "metadata": {
        "colab": {
          "base_uri": "https://localhost:8080/"
        },
        "id": "rGixhFvcrW3D",
        "outputId": "429f77da-bab2-439f-cd84-f381fdfe4ab6"
      },
      "source": [
        "influential_instances = []\n",
        "for i in range(0, len(most_influential_instances_indices)):\n",
        "  influential_instances.append(df.loc[i].values.tolist())\n",
        "\n",
        "influential_instances"
      ],
      "execution_count": null,
      "outputs": [
        {
          "output_type": "execute_result",
          "data": {
            "text/plain": [
              "[[3, 3, 1, 2, 5],\n",
              " [5, 5, 1, 2, 2],\n",
              " [3, 1, 3, 1, 1],\n",
              " [3, 5, 2, 1, 1],\n",
              " [3, 7, 5, 1, 2],\n",
              " [3, 2, 3, 3, 4],\n",
              " [2, 3, 3, 5, 1],\n",
              " [2, 3, 2, 1, 1],\n",
              " [2, 2, 5, 6, 2],\n",
              " [5, 3, 1, 2, 7],\n",
              " [1, 1, 1, 1, 2],\n",
              " [5, 5, 1, 2, 3],\n",
              " [1, 1, 1, 3, 4],\n",
              " [3, 2, 1, 9, 2],\n",
              " [6, 3, 7, 3, 2],\n",
              " [6, 2, 2, 2, 2],\n",
              " [4, 1, 1, 1, 2],\n",
              " [4, 2, 3, 5, 6],\n",
              " [1, 2, 1, 3, 1],\n",
              " [1, 1, 5, 4, 3],\n",
              " [4, 1, 3, 1, 5],\n",
              " [1, 1, 3, 2, 2]]"
            ]
          },
          "metadata": {},
          "execution_count": 76
        }
      ]
    },
    {
      "cell_type": "markdown",
      "metadata": {
        "id": "RdagTp6VH26u"
      },
      "source": [
        "## Root Mean Square Error"
      ]
    },
    {
      "cell_type": "code",
      "metadata": {
        "colab": {
          "base_uri": "https://localhost:8080/"
        },
        "id": "hDT2qKXnH5ln",
        "outputId": "55f2beeb-c064-43d5-a1cb-87193d0bdf38"
      },
      "source": [
        "rmse_np = np.array(rmse)\n",
        "least_rmse_indices = []\n",
        "for i in range(0, len(rmse)):\n",
        "  least_rmse_indices.append(np.argmin(rmse_np))\n",
        "  rmse_np[np.argmin(rmse_np)] = 99999\n",
        "\n",
        "least_rmse_indices"
      ],
      "execution_count": null,
      "outputs": [
        {
          "output_type": "execute_result",
          "data": {
            "text/plain": [
              "[8, 2, 5, 6, 1, 17, 16, 0, 13, 15, 14, 21, 20, 3, 9, 7, 12, 10, 19, 18, 4, 11]"
            ]
          },
          "metadata": {},
          "execution_count": 56
        }
      ]
    },
    {
      "cell_type": "markdown",
      "metadata": {
        "id": "uEu93uxkMDtU"
      },
      "source": [
        "#$R^2$"
      ]
    },
    {
      "cell_type": "code",
      "metadata": {
        "colab": {
          "base_uri": "https://localhost:8080/"
        },
        "id": "HQNpYXvyMHPB",
        "outputId": "3100a5ce-d398-4165-b920-c33da8ecd4b6"
      },
      "source": [
        "r2score_np = np.array(r2score)\n",
        "highest_r2score_indices = []\n",
        "for i in range(0, len(r2score)):\n",
        "  highest_r2score_indices.append(np.argmax(r2score_np))\n",
        "  r2score_np[np.argmax(r2score_np)] = -100\n",
        "\n",
        "highest_r2score_indices"
      ],
      "execution_count": null,
      "outputs": [
        {
          "output_type": "execute_result",
          "data": {
            "text/plain": [
              "[2, 5, 6, 1, 0, 13, 15, 14, 21, 20, 3, 9, 7, 17, 10, 12, 18, 4, 11, 19, 16, 8]"
            ]
          },
          "metadata": {},
          "execution_count": 57
        }
      ]
    },
    {
      "cell_type": "markdown",
      "metadata": {
        "id": "h2o94YdASYs7"
      },
      "source": [
        "## DFBETA, RMSE, $R^2$"
      ]
    },
    {
      "cell_type": "code",
      "metadata": {
        "colab": {
          "base_uri": "https://localhost:8080/"
        },
        "id": "qTnsnp_PSeNY",
        "outputId": "23b43df6-b5d3-4d3b-dd6a-42650158f872"
      },
      "source": [
        "metrics = np.column_stack([most_influential_instances_indices, least_rmse_indices, highest_r2score_indices])\n",
        "metrics"
      ],
      "execution_count": null,
      "outputs": [
        {
          "output_type": "execute_result",
          "data": {
            "text/plain": [
              "array([[ 7,  8,  2],\n",
              "       [ 8,  2,  5],\n",
              "       [12,  5,  6],\n",
              "       [20,  6,  1],\n",
              "       [11,  1,  0],\n",
              "       [16, 17, 13],\n",
              "       [13, 16, 15],\n",
              "       [ 4,  0, 14],\n",
              "       [ 1, 13, 21],\n",
              "       [21, 15, 20],\n",
              "       [ 5, 14,  3],\n",
              "       [ 2, 21,  9],\n",
              "       [ 3, 20,  7],\n",
              "       [10,  3, 17],\n",
              "       [ 6,  9, 10],\n",
              "       [15,  7, 12],\n",
              "       [18, 12, 18],\n",
              "       [ 9, 10,  4],\n",
              "       [14, 19, 11],\n",
              "       [ 0, 18, 19],\n",
              "       [19,  4, 16],\n",
              "       [17, 11,  8]])"
            ]
          },
          "metadata": {},
          "execution_count": 84
        }
      ]
    },
    {
      "cell_type": "markdown",
      "metadata": {
        "id": "_v0Hh9SDE3js"
      },
      "source": [
        "# K-Means using Dynamic Time Warping"
      ]
    },
    {
      "cell_type": "code",
      "metadata": {
        "colab": {
          "base_uri": "https://localhost:8080/"
        },
        "id": "Xt0Nd4mxElz_",
        "outputId": "215472f9-4dba-427c-f75e-e129e9f1eb49"
      },
      "source": [
        "!python -m pip install tslearn"
      ],
      "execution_count": null,
      "outputs": [
        {
          "output_type": "stream",
          "name": "stdout",
          "text": [
            "Collecting tslearn\n",
            "  Downloading tslearn-0.5.2-cp37-cp37m-manylinux_2_5_x86_64.manylinux1_x86_64.manylinux_2_12_x86_64.manylinux2010_x86_64.whl (793 kB)\n",
            "\u001b[?25l\r\u001b[K     |▍                               | 10 kB 19.1 MB/s eta 0:00:01\r\u001b[K     |▉                               | 20 kB 23.5 MB/s eta 0:00:01\r\u001b[K     |█▎                              | 30 kB 23.2 MB/s eta 0:00:01\r\u001b[K     |█▋                              | 40 kB 18.1 MB/s eta 0:00:01\r\u001b[K     |██                              | 51 kB 8.2 MB/s eta 0:00:01\r\u001b[K     |██▌                             | 61 kB 9.5 MB/s eta 0:00:01\r\u001b[K     |███                             | 71 kB 8.8 MB/s eta 0:00:01\r\u001b[K     |███▎                            | 81 kB 9.6 MB/s eta 0:00:01\r\u001b[K     |███▊                            | 92 kB 10.2 MB/s eta 0:00:01\r\u001b[K     |████▏                           | 102 kB 8.5 MB/s eta 0:00:01\r\u001b[K     |████▌                           | 112 kB 8.5 MB/s eta 0:00:01\r\u001b[K     |█████                           | 122 kB 8.5 MB/s eta 0:00:01\r\u001b[K     |█████▍                          | 133 kB 8.5 MB/s eta 0:00:01\r\u001b[K     |█████▉                          | 143 kB 8.5 MB/s eta 0:00:01\r\u001b[K     |██████▏                         | 153 kB 8.5 MB/s eta 0:00:01\r\u001b[K     |██████▋                         | 163 kB 8.5 MB/s eta 0:00:01\r\u001b[K     |███████                         | 174 kB 8.5 MB/s eta 0:00:01\r\u001b[K     |███████▍                        | 184 kB 8.5 MB/s eta 0:00:01\r\u001b[K     |███████▉                        | 194 kB 8.5 MB/s eta 0:00:01\r\u001b[K     |████████▎                       | 204 kB 8.5 MB/s eta 0:00:01\r\u001b[K     |████████▊                       | 215 kB 8.5 MB/s eta 0:00:01\r\u001b[K     |█████████                       | 225 kB 8.5 MB/s eta 0:00:01\r\u001b[K     |█████████▌                      | 235 kB 8.5 MB/s eta 0:00:01\r\u001b[K     |██████████                      | 245 kB 8.5 MB/s eta 0:00:01\r\u001b[K     |██████████▎                     | 256 kB 8.5 MB/s eta 0:00:01\r\u001b[K     |██████████▊                     | 266 kB 8.5 MB/s eta 0:00:01\r\u001b[K     |███████████▏                    | 276 kB 8.5 MB/s eta 0:00:01\r\u001b[K     |███████████▋                    | 286 kB 8.5 MB/s eta 0:00:01\r\u001b[K     |████████████                    | 296 kB 8.5 MB/s eta 0:00:01\r\u001b[K     |████████████▍                   | 307 kB 8.5 MB/s eta 0:00:01\r\u001b[K     |████████████▉                   | 317 kB 8.5 MB/s eta 0:00:01\r\u001b[K     |█████████████▏                  | 327 kB 8.5 MB/s eta 0:00:01\r\u001b[K     |█████████████▋                  | 337 kB 8.5 MB/s eta 0:00:01\r\u001b[K     |██████████████                  | 348 kB 8.5 MB/s eta 0:00:01\r\u001b[K     |██████████████▌                 | 358 kB 8.5 MB/s eta 0:00:01\r\u001b[K     |██████████████▉                 | 368 kB 8.5 MB/s eta 0:00:01\r\u001b[K     |███████████████▎                | 378 kB 8.5 MB/s eta 0:00:01\r\u001b[K     |███████████████▊                | 389 kB 8.5 MB/s eta 0:00:01\r\u001b[K     |████████████████▏               | 399 kB 8.5 MB/s eta 0:00:01\r\u001b[K     |████████████████▌               | 409 kB 8.5 MB/s eta 0:00:01\r\u001b[K     |█████████████████               | 419 kB 8.5 MB/s eta 0:00:01\r\u001b[K     |█████████████████▍              | 430 kB 8.5 MB/s eta 0:00:01\r\u001b[K     |█████████████████▊              | 440 kB 8.5 MB/s eta 0:00:01\r\u001b[K     |██████████████████▏             | 450 kB 8.5 MB/s eta 0:00:01\r\u001b[K     |██████████████████▋             | 460 kB 8.5 MB/s eta 0:00:01\r\u001b[K     |███████████████████             | 471 kB 8.5 MB/s eta 0:00:01\r\u001b[K     |███████████████████▍            | 481 kB 8.5 MB/s eta 0:00:01\r\u001b[K     |███████████████████▉            | 491 kB 8.5 MB/s eta 0:00:01\r\u001b[K     |████████████████████▎           | 501 kB 8.5 MB/s eta 0:00:01\r\u001b[K     |████████████████████▋           | 512 kB 8.5 MB/s eta 0:00:01\r\u001b[K     |█████████████████████           | 522 kB 8.5 MB/s eta 0:00:01\r\u001b[K     |█████████████████████▌          | 532 kB 8.5 MB/s eta 0:00:01\r\u001b[K     |██████████████████████          | 542 kB 8.5 MB/s eta 0:00:01\r\u001b[K     |██████████████████████▎         | 552 kB 8.5 MB/s eta 0:00:01\r\u001b[K     |██████████████████████▊         | 563 kB 8.5 MB/s eta 0:00:01\r\u001b[K     |███████████████████████▏        | 573 kB 8.5 MB/s eta 0:00:01\r\u001b[K     |███████████████████████▌        | 583 kB 8.5 MB/s eta 0:00:01\r\u001b[K     |████████████████████████        | 593 kB 8.5 MB/s eta 0:00:01\r\u001b[K     |████████████████████████▍       | 604 kB 8.5 MB/s eta 0:00:01\r\u001b[K     |████████████████████████▉       | 614 kB 8.5 MB/s eta 0:00:01\r\u001b[K     |█████████████████████████▏      | 624 kB 8.5 MB/s eta 0:00:01\r\u001b[K     |█████████████████████████▋      | 634 kB 8.5 MB/s eta 0:00:01\r\u001b[K     |██████████████████████████      | 645 kB 8.5 MB/s eta 0:00:01\r\u001b[K     |██████████████████████████▍     | 655 kB 8.5 MB/s eta 0:00:01\r\u001b[K     |██████████████████████████▉     | 665 kB 8.5 MB/s eta 0:00:01\r\u001b[K     |███████████████████████████▎    | 675 kB 8.5 MB/s eta 0:00:01\r\u001b[K     |███████████████████████████▊    | 686 kB 8.5 MB/s eta 0:00:01\r\u001b[K     |████████████████████████████    | 696 kB 8.5 MB/s eta 0:00:01\r\u001b[K     |████████████████████████████▌   | 706 kB 8.5 MB/s eta 0:00:01\r\u001b[K     |█████████████████████████████   | 716 kB 8.5 MB/s eta 0:00:01\r\u001b[K     |█████████████████████████████▍  | 727 kB 8.5 MB/s eta 0:00:01\r\u001b[K     |█████████████████████████████▊  | 737 kB 8.5 MB/s eta 0:00:01\r\u001b[K     |██████████████████████████████▏ | 747 kB 8.5 MB/s eta 0:00:01\r\u001b[K     |██████████████████████████████▋ | 757 kB 8.5 MB/s eta 0:00:01\r\u001b[K     |███████████████████████████████ | 768 kB 8.5 MB/s eta 0:00:01\r\u001b[K     |███████████████████████████████▍| 778 kB 8.5 MB/s eta 0:00:01\r\u001b[K     |███████████████████████████████▉| 788 kB 8.5 MB/s eta 0:00:01\r\u001b[K     |████████████████████████████████| 793 kB 8.5 MB/s \n",
            "\u001b[?25hRequirement already satisfied: joblib in /usr/local/lib/python3.7/dist-packages (from tslearn) (1.0.1)\n",
            "Requirement already satisfied: Cython in /usr/local/lib/python3.7/dist-packages (from tslearn) (0.29.24)\n",
            "Requirement already satisfied: scikit-learn in /usr/local/lib/python3.7/dist-packages (from tslearn) (0.22.2.post1)\n",
            "Requirement already satisfied: numba in /usr/local/lib/python3.7/dist-packages (from tslearn) (0.51.2)\n",
            "Requirement already satisfied: scipy in /usr/local/lib/python3.7/dist-packages (from tslearn) (1.4.1)\n",
            "Requirement already satisfied: numpy in /usr/local/lib/python3.7/dist-packages (from tslearn) (1.19.5)\n",
            "Requirement already satisfied: llvmlite<0.35,>=0.34.0.dev0 in /usr/local/lib/python3.7/dist-packages (from numba->tslearn) (0.34.0)\n",
            "Requirement already satisfied: setuptools in /usr/local/lib/python3.7/dist-packages (from numba->tslearn) (57.4.0)\n",
            "Installing collected packages: tslearn\n",
            "Successfully installed tslearn-0.5.2\n"
          ]
        }
      ]
    },
    {
      "cell_type": "code",
      "metadata": {
        "colab": {
          "base_uri": "https://localhost:8080/"
        },
        "id": "xxSt9V7gFEo6",
        "outputId": "291482ef-f361-4162-b447-32502d5f9da7"
      },
      "source": [
        "from tslearn.metrics import dtw\n",
        "from tslearn.clustering import TimeSeriesKMeans\n",
        "\n",
        "kmeans_model = TimeSeriesKMeans(n_clusters=len(metrics), init=\"random\")\n",
        "\n",
        "kmeans_model.fit(influential_instances)"
      ],
      "execution_count": null,
      "outputs": [
        {
          "output_type": "execute_result",
          "data": {
            "text/plain": [
              "TimeSeriesKMeans(dtw_inertia=False, init='random', max_iter=50,\n",
              "                 max_iter_barycenter=100, metric='euclidean',\n",
              "                 metric_params=None, n_clusters=22, n_init=1, n_jobs=None,\n",
              "                 random_state=None, tol=1e-06, verbose=0)"
            ]
          },
          "metadata": {},
          "execution_count": 85
        }
      ]
    },
    {
      "cell_type": "code",
      "metadata": {
        "colab": {
          "base_uri": "https://localhost:8080/",
          "height": 811
        },
        "id": "eJeiAIv-XKkd",
        "outputId": "e970e86c-ac20-473c-8d86-ed0df2e7e0eb"
      },
      "source": [
        "plt.plot()\n",
        "# plt.show()\n",
        "# df.index"
      ],
      "execution_count": null,
      "outputs": [
        {
          "output_type": "error",
          "ename": "TypeError",
          "evalue": "ignored",
          "traceback": [
            "\u001b[0;31m---------------------------------------------------------------------------\u001b[0m",
            "\u001b[0;31mTypeError\u001b[0m                                 Traceback (most recent call last)",
            "\u001b[0;32m<ipython-input-98-772542603150>\u001b[0m in \u001b[0;36m<module>\u001b[0;34m()\u001b[0m\n\u001b[0;32m----> 1\u001b[0;31m \u001b[0mplt\u001b[0m\u001b[0;34m.\u001b[0m\u001b[0mplot\u001b[0m\u001b[0;34m(\u001b[0m\u001b[0mx\u001b[0m\u001b[0;34m=\u001b[0m\u001b[0mdf\u001b[0m\u001b[0;34m.\u001b[0m\u001b[0mindex\u001b[0m\u001b[0;34m)\u001b[0m\u001b[0;34m\u001b[0m\u001b[0;34m\u001b[0m\u001b[0m\n\u001b[0m\u001b[1;32m      2\u001b[0m \u001b[0;31m# plt.show()\u001b[0m\u001b[0;34m\u001b[0m\u001b[0;34m\u001b[0m\u001b[0;34m\u001b[0m\u001b[0m\n\u001b[1;32m      3\u001b[0m \u001b[0mdf\u001b[0m\u001b[0;34m.\u001b[0m\u001b[0mindex\u001b[0m\u001b[0;34m\u001b[0m\u001b[0;34m\u001b[0m\u001b[0m\n",
            "\u001b[0;32m/usr/local/lib/python3.7/dist-packages/matplotlib/pyplot.py\u001b[0m in \u001b[0;36mplot\u001b[0;34m(scalex, scaley, data, *args, **kwargs)\u001b[0m\n\u001b[1;32m   2761\u001b[0m     return gca().plot(\n\u001b[1;32m   2762\u001b[0m         *args, scalex=scalex, scaley=scaley, **({\"data\": data} if data\n\u001b[0;32m-> 2763\u001b[0;31m         is not None else {}), **kwargs)\n\u001b[0m\u001b[1;32m   2764\u001b[0m \u001b[0;34m\u001b[0m\u001b[0m\n\u001b[1;32m   2765\u001b[0m \u001b[0;34m\u001b[0m\u001b[0m\n",
            "\u001b[0;32m/usr/local/lib/python3.7/dist-packages/matplotlib/axes/_axes.py\u001b[0m in \u001b[0;36mplot\u001b[0;34m(self, scalex, scaley, data, *args, **kwargs)\u001b[0m\n\u001b[1;32m   1645\u001b[0m         \"\"\"\n\u001b[1;32m   1646\u001b[0m         \u001b[0mkwargs\u001b[0m \u001b[0;34m=\u001b[0m \u001b[0mcbook\u001b[0m\u001b[0;34m.\u001b[0m\u001b[0mnormalize_kwargs\u001b[0m\u001b[0;34m(\u001b[0m\u001b[0mkwargs\u001b[0m\u001b[0;34m,\u001b[0m \u001b[0mmlines\u001b[0m\u001b[0;34m.\u001b[0m\u001b[0mLine2D\u001b[0m\u001b[0;34m)\u001b[0m\u001b[0;34m\u001b[0m\u001b[0;34m\u001b[0m\u001b[0m\n\u001b[0;32m-> 1647\u001b[0;31m         \u001b[0mlines\u001b[0m \u001b[0;34m=\u001b[0m \u001b[0;34m[\u001b[0m\u001b[0;34m*\u001b[0m\u001b[0mself\u001b[0m\u001b[0;34m.\u001b[0m\u001b[0m_get_lines\u001b[0m\u001b[0;34m(\u001b[0m\u001b[0;34m*\u001b[0m\u001b[0margs\u001b[0m\u001b[0;34m,\u001b[0m \u001b[0mdata\u001b[0m\u001b[0;34m=\u001b[0m\u001b[0mdata\u001b[0m\u001b[0;34m,\u001b[0m \u001b[0;34m**\u001b[0m\u001b[0mkwargs\u001b[0m\u001b[0;34m)\u001b[0m\u001b[0;34m]\u001b[0m\u001b[0;34m\u001b[0m\u001b[0;34m\u001b[0m\u001b[0m\n\u001b[0m\u001b[1;32m   1648\u001b[0m         \u001b[0;32mfor\u001b[0m \u001b[0mline\u001b[0m \u001b[0;32min\u001b[0m \u001b[0mlines\u001b[0m\u001b[0;34m:\u001b[0m\u001b[0;34m\u001b[0m\u001b[0;34m\u001b[0m\u001b[0m\n\u001b[1;32m   1649\u001b[0m             \u001b[0mself\u001b[0m\u001b[0;34m.\u001b[0m\u001b[0madd_line\u001b[0m\u001b[0;34m(\u001b[0m\u001b[0mline\u001b[0m\u001b[0;34m)\u001b[0m\u001b[0;34m\u001b[0m\u001b[0;34m\u001b[0m\u001b[0m\n",
            "\u001b[0;32m/usr/local/lib/python3.7/dist-packages/matplotlib/axes/_base.py\u001b[0m in \u001b[0;36m__call__\u001b[0;34m(self, *args, **kwargs)\u001b[0m\n\u001b[1;32m    157\u001b[0m             \u001b[0;32mif\u001b[0m \u001b[0mpos_only\u001b[0m \u001b[0;32min\u001b[0m \u001b[0mkwargs\u001b[0m\u001b[0;34m:\u001b[0m\u001b[0;34m\u001b[0m\u001b[0;34m\u001b[0m\u001b[0m\n\u001b[1;32m    158\u001b[0m                 raise TypeError(\"{} got an unexpected keyword argument {!r}\"\n\u001b[0;32m--> 159\u001b[0;31m                                 .format(self.command, pos_only))\n\u001b[0m\u001b[1;32m    160\u001b[0m \u001b[0;34m\u001b[0m\u001b[0m\n\u001b[1;32m    161\u001b[0m         \u001b[0;32mif\u001b[0m \u001b[0;32mnot\u001b[0m \u001b[0margs\u001b[0m\u001b[0;34m:\u001b[0m\u001b[0;34m\u001b[0m\u001b[0;34m\u001b[0m\u001b[0m\n",
            "\u001b[0;31mTypeError\u001b[0m: plot got an unexpected keyword argument 'x'"
          ]
        },
        {
          "output_type": "display_data",
          "data": {
            "image/png": "[encoded data removed]",
            "text/plain": [
              "<Figure size 864x576 with 1 Axes>"
            ]
          },
          "metadata": {
            "needs_background": "light"
          }
        }
      ]
    },
    {
      "cell_type": "code",
      "metadata": {
        "colab": {
          "base_uri": "https://localhost:8080/"
        },
        "id": "SWCX9Qswt4YP",
        "outputId": "7348050e-0e0b-48f6-e9e8-ff8843e9da3a"
      },
      "source": [
        "res = kmeans_model.predict(df.loc[[49]].values.tolist())\n",
        "kmeans_model.cluster_centers_"
      ],
      "execution_count": null,
      "outputs": [
        {
          "output_type": "stream",
          "name": "stderr",
          "text": [
            "/usr/local/lib/python3.7/dist-packages/tslearn/utils/utils.py:89: UserWarning: 2-Dimensional data passed. Assuming these are 1 1-dimensional timeseries\n",
            "  '{} 1-dimensional timeseries'.format(X.shape[0]))\n"
          ]
        },
        {
          "output_type": "execute_result",
          "data": {
            "text/plain": [
              "array([[[3.],\n",
              "        [7.],\n",
              "        [5.],\n",
              "        [1.],\n",
              "        [2.]],\n",
              "\n",
              "       [[1.],\n",
              "        [2.],\n",
              "        [1.],\n",
              "        [3.],\n",
              "        [1.]],\n",
              "\n",
              "       [[3.],\n",
              "        [3.],\n",
              "        [1.],\n",
              "        [2.],\n",
              "        [5.]],\n",
              "\n",
              "       [[6.],\n",
              "        [2.],\n",
              "        [2.],\n",
              "        [2.],\n",
              "        [2.]],\n",
              "\n",
              "       [[5.],\n",
              "        [5.],\n",
              "        [1.],\n",
              "        [2.],\n",
              "        [3.]],\n",
              "\n",
              "       [[3.],\n",
              "        [2.],\n",
              "        [1.],\n",
              "        [9.],\n",
              "        [2.]],\n",
              "\n",
              "       [[1.],\n",
              "        [1.],\n",
              "        [3.],\n",
              "        [2.],\n",
              "        [2.]],\n",
              "\n",
              "       [[5.],\n",
              "        [5.],\n",
              "        [1.],\n",
              "        [2.],\n",
              "        [3.]],\n",
              "\n",
              "       [[1.],\n",
              "        [1.],\n",
              "        [3.],\n",
              "        [2.],\n",
              "        [2.]],\n",
              "\n",
              "       [[5.],\n",
              "        [3.],\n",
              "        [1.],\n",
              "        [2.],\n",
              "        [7.]],\n",
              "\n",
              "       [[3.],\n",
              "        [2.],\n",
              "        [1.],\n",
              "        [9.],\n",
              "        [2.]],\n",
              "\n",
              "       [[3.],\n",
              "        [7.],\n",
              "        [5.],\n",
              "        [1.],\n",
              "        [2.]],\n",
              "\n",
              "       [[6.],\n",
              "        [2.],\n",
              "        [2.],\n",
              "        [2.],\n",
              "        [2.]],\n",
              "\n",
              "       [[2.],\n",
              "        [3.],\n",
              "        [2.],\n",
              "        [1.],\n",
              "        [1.]],\n",
              "\n",
              "       [[3.],\n",
              "        [2.],\n",
              "        [3.],\n",
              "        [3.],\n",
              "        [4.]],\n",
              "\n",
              "       [[5.],\n",
              "        [3.],\n",
              "        [1.],\n",
              "        [2.],\n",
              "        [7.]],\n",
              "\n",
              "       [[2.],\n",
              "        [3.],\n",
              "        [3.],\n",
              "        [5.],\n",
              "        [1.]],\n",
              "\n",
              "       [[3.],\n",
              "        [2.],\n",
              "        [3.],\n",
              "        [3.],\n",
              "        [4.]],\n",
              "\n",
              "       [[5.],\n",
              "        [5.],\n",
              "        [1.],\n",
              "        [2.],\n",
              "        [3.]],\n",
              "\n",
              "       [[2.],\n",
              "        [3.],\n",
              "        [2.],\n",
              "        [1.],\n",
              "        [1.]],\n",
              "\n",
              "       [[2.],\n",
              "        [2.],\n",
              "        [5.],\n",
              "        [6.],\n",
              "        [2.]],\n",
              "\n",
              "       [[1.],\n",
              "        [1.],\n",
              "        [3.],\n",
              "        [2.],\n",
              "        [2.]]])"
            ]
          },
          "metadata": {},
          "execution_count": 88
        }
      ]
    },
    {
      "cell_type": "markdown",
      "metadata": {
        "id": "iw7bFtufVHXY"
      },
      "source": [
        "For each point (instance in the data set) we calcuate the Dynamic Time Warping for all cluster centers. If it less than a given distance it is considered a point in the cluster, otherwise it is considered an outlier and is dropped from the data set. The final data set is then used by the LSTM model for re-training. "
      ]
    },
    {
      "cell_type": "markdown",
      "metadata": {
        "id": "P9vJME8cE7ko"
      },
      "source": [
        "# Re-train LSTM model based on K-Means outcomes"
      ]
    },
    {
      "cell_type": "markdown",
      "metadata": {
        "id": "nBtcYR21Htdy"
      },
      "source": [
        "# Appendix - "
      ]
    },
    {
      "cell_type": "code",
      "metadata": {
        "id": "pWaYf_JyPJF0",
        "colab": {
          "resources": {
            "http://localhost:8080/nbextensions/google.colab/files.js": {
              "data": "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",
              "ok": true,
              "headers": [
                [
                  "content-type",
                  "application/javascript"
                ]
              ],
              "status": 200,
              "status_text": ""
            }
          },
          "base_uri": "https://localhost:8080/",
          "height": 396
        },
        "outputId": "6153b97d-4fef-40d8-aa23-b35bc28f2e25"
      },
      "source": [
        "import numpy as np\n",
        "import matplotlib as mpl\n",
        "import matplotlib.pyplot as plt\n",
        "import pandas as pd\n",
        "from sklearn.neighbors import KernelDensity\n",
        "from sklearn.preprocessing import MinMaxScaler\n",
        "\n",
        "from google.colab import files\n",
        "src = list(files.upload().values())[0]\n",
        "open('lstm.py','wb').write(src)\n",
        "# open('preprocessing.py', 'wb').write(src)\n",
        "\n",
        "from preprocessing import read_csv, series_to_supervised, Min_max_scal, reshape_data_single_lag\n",
        "from lstm import LSTM_model\n",
        "\n",
        "df = read_csv()\n",
        "new_df = series_to_supervised(df, n_in=1, n_out=1)\n",
        "new_df = new_df.astype(int)\n",
        "\n",
        "columns = new_df.columns\n",
        "scaled_np = Min_max_scal(new_df)\n",
        "scaled_df = pd.DataFrame(scaled_np, columns=[columns])\n",
        "\n",
        "train_X, train_y, test_X, test_y, val_X, val_y = reshape_data_single_lag(scaled_df,  0.45, 0.35, 0.2 )\n",
        "\n",
        "model = LSTM_model(train_X, train_y, test_X, test_y)\n",
        "model.summary()"
      ],
      "execution_count": null,
      "outputs": [
        {
          "output_type": "display_data",
          "data": {
            "text/html": [
              "\n",
              "     <input type=\"file\" id=\"files-89838a3d-fbe5-4d04-b762-64282bcff59b\" name=\"files[]\" multiple disabled\n",
              "        style=\"border:none\" />\n",
              "     <output id=\"result-89838a3d-fbe5-4d04-b762-64282bcff59b\">\n",
              "      Upload widget is only available when the cell has been executed in the\n",
              "      current browser session. Please rerun this cell to enable.\n",
              "      </output>\n",
              "      <script src=\"/nbextensions/google.colab/files.js\"></script> "
            ],
            "text/plain": [
              "<IPython.core.display.HTML object>"
            ]
          },
          "metadata": {}
        },
        {
          "output_type": "error",
          "ename": "KeyboardInterrupt",
          "evalue": "ignored",
          "traceback": [
            "\u001b[0;31m---------------------------------------------------------------------------\u001b[0m",
            "\u001b[0;31mKeyboardInterrupt\u001b[0m                         Traceback (most recent call last)",
            "\u001b[0;32m<ipython-input-90-435e428507ea>\u001b[0m in \u001b[0;36m<module>\u001b[0;34m()\u001b[0m\n\u001b[1;32m      7\u001b[0m \u001b[0;34m\u001b[0m\u001b[0m\n\u001b[1;32m      8\u001b[0m \u001b[0;32mfrom\u001b[0m \u001b[0mgoogle\u001b[0m\u001b[0;34m.\u001b[0m\u001b[0mcolab\u001b[0m \u001b[0;32mimport\u001b[0m \u001b[0mfiles\u001b[0m\u001b[0;34m\u001b[0m\u001b[0;34m\u001b[0m\u001b[0m\n\u001b[0;32m----> 9\u001b[0;31m \u001b[0msrc\u001b[0m \u001b[0;34m=\u001b[0m \u001b[0mlist\u001b[0m\u001b[0;34m(\u001b[0m\u001b[0mfiles\u001b[0m\u001b[0;34m.\u001b[0m\u001b[0mupload\u001b[0m\u001b[0;34m(\u001b[0m\u001b[0;34m)\u001b[0m\u001b[0;34m.\u001b[0m\u001b[0mvalues\u001b[0m\u001b[0;34m(\u001b[0m\u001b[0;34m)\u001b[0m\u001b[0;34m)\u001b[0m\u001b[0;34m[\u001b[0m\u001b[0;36m0\u001b[0m\u001b[0;34m]\u001b[0m\u001b[0;34m\u001b[0m\u001b[0;34m\u001b[0m\u001b[0m\n\u001b[0m\u001b[1;32m     10\u001b[0m \u001b[0mopen\u001b[0m\u001b[0;34m(\u001b[0m\u001b[0;34m'lstm.py'\u001b[0m\u001b[0;34m,\u001b[0m\u001b[0;34m'wb'\u001b[0m\u001b[0;34m)\u001b[0m\u001b[0;34m.\u001b[0m\u001b[0mwrite\u001b[0m\u001b[0;34m(\u001b[0m\u001b[0msrc\u001b[0m\u001b[0;34m)\u001b[0m\u001b[0;34m\u001b[0m\u001b[0;34m\u001b[0m\u001b[0m\n\u001b[1;32m     11\u001b[0m \u001b[0;31m# open('preprocessing.py', 'wb').write(src)\u001b[0m\u001b[0;34m\u001b[0m\u001b[0;34m\u001b[0m\u001b[0;34m\u001b[0m\u001b[0m\n",
            "\u001b[0;32m/usr/local/lib/python3.7/dist-packages/google/colab/files.py\u001b[0m in \u001b[0;36mupload\u001b[0;34m()\u001b[0m\n\u001b[1;32m     62\u001b[0m   result = _output.eval_js(\n\u001b[1;32m     63\u001b[0m       'google.colab._files._uploadFiles(\"{input_id}\", \"{output_id}\")'.format(\n\u001b[0;32m---> 64\u001b[0;31m           input_id=input_id, output_id=output_id))\n\u001b[0m\u001b[1;32m     65\u001b[0m   \u001b[0mfiles\u001b[0m \u001b[0;34m=\u001b[0m \u001b[0m_collections\u001b[0m\u001b[0;34m.\u001b[0m\u001b[0mdefaultdict\u001b[0m\u001b[0;34m(\u001b[0m\u001b[0m_six\u001b[0m\u001b[0;34m.\u001b[0m\u001b[0mbinary_type\u001b[0m\u001b[0;34m)\u001b[0m\u001b[0;34m\u001b[0m\u001b[0;34m\u001b[0m\u001b[0m\n\u001b[1;32m     66\u001b[0m   \u001b[0;31m# Mapping from original filename to filename as saved locally.\u001b[0m\u001b[0;34m\u001b[0m\u001b[0;34m\u001b[0m\u001b[0;34m\u001b[0m\u001b[0m\n",
            "\u001b[0;32m/usr/local/lib/python3.7/dist-packages/google/colab/output/_js.py\u001b[0m in \u001b[0;36meval_js\u001b[0;34m(script, ignore_result, timeout_sec)\u001b[0m\n\u001b[1;32m     38\u001b[0m   \u001b[0;32mif\u001b[0m \u001b[0mignore_result\u001b[0m\u001b[0;34m:\u001b[0m\u001b[0;34m\u001b[0m\u001b[0;34m\u001b[0m\u001b[0m\n\u001b[1;32m     39\u001b[0m     \u001b[0;32mreturn\u001b[0m\u001b[0;34m\u001b[0m\u001b[0;34m\u001b[0m\u001b[0m\n\u001b[0;32m---> 40\u001b[0;31m   \u001b[0;32mreturn\u001b[0m \u001b[0m_message\u001b[0m\u001b[0;34m.\u001b[0m\u001b[0mread_reply_from_input\u001b[0m\u001b[0;34m(\u001b[0m\u001b[0mrequest_id\u001b[0m\u001b[0;34m,\u001b[0m \u001b[0mtimeout_sec\u001b[0m\u001b[0;34m)\u001b[0m\u001b[0;34m\u001b[0m\u001b[0;34m\u001b[0m\u001b[0m\n\u001b[0m\u001b[1;32m     41\u001b[0m \u001b[0;34m\u001b[0m\u001b[0m\n\u001b[1;32m     42\u001b[0m \u001b[0;34m\u001b[0m\u001b[0m\n",
            "\u001b[0;32m/usr/local/lib/python3.7/dist-packages/google/colab/_message.py\u001b[0m in \u001b[0;36mread_reply_from_input\u001b[0;34m(message_id, timeout_sec)\u001b[0m\n\u001b[1;32m     99\u001b[0m     \u001b[0mreply\u001b[0m \u001b[0;34m=\u001b[0m \u001b[0m_read_next_input_message\u001b[0m\u001b[0;34m(\u001b[0m\u001b[0;34m)\u001b[0m\u001b[0;34m\u001b[0m\u001b[0;34m\u001b[0m\u001b[0m\n\u001b[1;32m    100\u001b[0m     \u001b[0;32mif\u001b[0m \u001b[0mreply\u001b[0m \u001b[0;34m==\u001b[0m \u001b[0m_NOT_READY\u001b[0m \u001b[0;32mor\u001b[0m \u001b[0;32mnot\u001b[0m \u001b[0misinstance\u001b[0m\u001b[0;34m(\u001b[0m\u001b[0mreply\u001b[0m\u001b[0;34m,\u001b[0m \u001b[0mdict\u001b[0m\u001b[0;34m)\u001b[0m\u001b[0;34m:\u001b[0m\u001b[0;34m\u001b[0m\u001b[0;34m\u001b[0m\u001b[0m\n\u001b[0;32m--> 101\u001b[0;31m       \u001b[0mtime\u001b[0m\u001b[0;34m.\u001b[0m\u001b[0msleep\u001b[0m\u001b[0;34m(\u001b[0m\u001b[0;36m0.025\u001b[0m\u001b[0;34m)\u001b[0m\u001b[0;34m\u001b[0m\u001b[0;34m\u001b[0m\u001b[0m\n\u001b[0m\u001b[1;32m    102\u001b[0m       \u001b[0;32mcontinue\u001b[0m\u001b[0;34m\u001b[0m\u001b[0;34m\u001b[0m\u001b[0m\n\u001b[1;32m    103\u001b[0m     if (reply.get('type') == 'colab_reply' and\n",
            "\u001b[0;31mKeyboardInterrupt\u001b[0m: "
          ]
        }
      ]
    }
  ]
}